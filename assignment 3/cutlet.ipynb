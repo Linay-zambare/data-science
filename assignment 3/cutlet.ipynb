{
 "cells": [
  {
   "cell_type": "code",
   "execution_count": 1,
   "id": "9cca9984",
   "metadata": {},
   "outputs": [],
   "source": [
    "import pandas as pd\n",
    "import numpy as np\n",
    "from scipy.stats import ttest_ind"
   ]
  },
  {
   "cell_type": "code",
   "execution_count": 2,
   "id": "fc8287db",
   "metadata": {},
   "outputs": [],
   "source": [
    "cutlet= pd.read_csv(\"Cutlets.csv\")"
   ]
  },
  {
   "cell_type": "markdown",
   "id": "7f79f019",
   "metadata": {},
   "source": [
    "* A F&B manager wants to determine whether there is any significant difference in the diameter of the cutlet between two units. A randomly selected sample of cutlets was collected from both units and measured? Analyze the data and draw inferences at 5% significance level. Please state the assumptions and tests that you carried out to check validity of the assumptions.\n"
   ]
  },
  {
   "cell_type": "markdown",
   "id": "c6501d0c",
   "metadata": {},
   "source": [
    "+ Null Hypothesis: there is no significant diffrence in the diameter of the cultet between two units\n",
    "\n",
    "+ Alternate Hypothesis : there is significant diffrence in the diameter of the cultet between two units\n",
    "+ alpha = 0.05"
   ]
  },
  {
   "cell_type": "code",
   "execution_count": 4,
   "id": "1ac292f6",
   "metadata": {},
   "outputs": [
    {
     "name": "stdout",
     "output_type": "stream",
     "text": [
      "Ttest_indResult(statistic=0.7228688704678063, pvalue=0.4722394724599501)\n"
     ]
    }
   ],
   "source": [
    "Pvalue =ttest_ind((cutlet.iloc[:,0]),(cutlet.iloc[ :,1]),alternative='two-sided')\n",
    "print(Pvalue)"
   ]
  },
  {
   "cell_type": "markdown",
   "id": "0614abcf",
   "metadata": {},
   "source": [
    "+ Pvalue is grater than significance value aplha\n",
    "+ the Unit A and Unit B are dependant"
   ]
  },
  {
   "cell_type": "markdown",
   "id": "128ceb59",
   "metadata": {},
   "source": []
  }
 ],
 "metadata": {
  "kernelspec": {
   "display_name": "Python 3 (ipykernel)",
   "language": "python",
   "name": "python3"
  },
  "language_info": {
   "codemirror_mode": {
    "name": "ipython",
    "version": 3
   },
   "file_extension": ".py",
   "mimetype": "text/x-python",
   "name": "python",
   "nbconvert_exporter": "python",
   "pygments_lexer": "ipython3",
   "version": "3.9.7"
  }
 },
 "nbformat": 4,
 "nbformat_minor": 5
}
