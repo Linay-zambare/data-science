{
 "cells": [
  {
   "cell_type": "code",
   "execution_count": 1,
   "id": "59630e41",
   "metadata": {},
   "outputs": [],
   "source": [
    "import warnings\n",
    "warnings.filterwarnings(\"ignore\")"
   ]
  },
  {
   "cell_type": "code",
   "execution_count": 2,
   "id": "2841e7b8",
   "metadata": {},
   "outputs": [],
   "source": [
    "import pandas as pd\n",
    "import tensorflow as tf\n",
    "from sklearn.preprocessing import MinMaxScaler\n",
    "import keras\n",
    "from keras.layers import Dense\n",
    "from keras.models import Sequential\n",
    "import seaborn as sns\n",
    "import matplotlib.pyplot as plt"
   ]
  },
  {
   "cell_type": "code",
   "execution_count": 3,
   "id": "5ea70e74",
   "metadata": {},
   "outputs": [],
   "source": [
    "gas = pd.read_csv(\"gas_turbines.csv\")"
   ]
  },
  {
   "cell_type": "code",
   "execution_count": 4,
   "id": "f71c63c5",
   "metadata": {},
   "outputs": [
    {
     "data": {
      "text/html": [
       "<div>\n",
       "<style scoped>\n",
       "    .dataframe tbody tr th:only-of-type {\n",
       "        vertical-align: middle;\n",
       "    }\n",
       "\n",
       "    .dataframe tbody tr th {\n",
       "        vertical-align: top;\n",
       "    }\n",
       "\n",
       "    .dataframe thead th {\n",
       "        text-align: right;\n",
       "    }\n",
       "</style>\n",
       "<table border=\"1\" class=\"dataframe\">\n",
       "  <thead>\n",
       "    <tr style=\"text-align: right;\">\n",
       "      <th></th>\n",
       "      <th>AT</th>\n",
       "      <th>AP</th>\n",
       "      <th>AH</th>\n",
       "      <th>AFDP</th>\n",
       "      <th>GTEP</th>\n",
       "      <th>TIT</th>\n",
       "      <th>TAT</th>\n",
       "      <th>TEY</th>\n",
       "      <th>CDP</th>\n",
       "      <th>CO</th>\n",
       "      <th>NOX</th>\n",
       "    </tr>\n",
       "  </thead>\n",
       "  <tbody>\n",
       "    <tr>\n",
       "      <th>0</th>\n",
       "      <td>6.8594</td>\n",
       "      <td>1007.9</td>\n",
       "      <td>96.799</td>\n",
       "      <td>3.5000</td>\n",
       "      <td>19.663</td>\n",
       "      <td>1059.2</td>\n",
       "      <td>550.00</td>\n",
       "      <td>114.70</td>\n",
       "      <td>10.605</td>\n",
       "      <td>3.1547</td>\n",
       "      <td>82.722</td>\n",
       "    </tr>\n",
       "    <tr>\n",
       "      <th>1</th>\n",
       "      <td>6.7850</td>\n",
       "      <td>1008.4</td>\n",
       "      <td>97.118</td>\n",
       "      <td>3.4998</td>\n",
       "      <td>19.728</td>\n",
       "      <td>1059.3</td>\n",
       "      <td>550.00</td>\n",
       "      <td>114.72</td>\n",
       "      <td>10.598</td>\n",
       "      <td>3.2363</td>\n",
       "      <td>82.776</td>\n",
       "    </tr>\n",
       "    <tr>\n",
       "      <th>2</th>\n",
       "      <td>6.8977</td>\n",
       "      <td>1008.8</td>\n",
       "      <td>95.939</td>\n",
       "      <td>3.4824</td>\n",
       "      <td>19.779</td>\n",
       "      <td>1059.4</td>\n",
       "      <td>549.87</td>\n",
       "      <td>114.71</td>\n",
       "      <td>10.601</td>\n",
       "      <td>3.2012</td>\n",
       "      <td>82.468</td>\n",
       "    </tr>\n",
       "    <tr>\n",
       "      <th>3</th>\n",
       "      <td>7.0569</td>\n",
       "      <td>1009.2</td>\n",
       "      <td>95.249</td>\n",
       "      <td>3.4805</td>\n",
       "      <td>19.792</td>\n",
       "      <td>1059.6</td>\n",
       "      <td>549.99</td>\n",
       "      <td>114.72</td>\n",
       "      <td>10.606</td>\n",
       "      <td>3.1923</td>\n",
       "      <td>82.670</td>\n",
       "    </tr>\n",
       "    <tr>\n",
       "      <th>4</th>\n",
       "      <td>7.3978</td>\n",
       "      <td>1009.7</td>\n",
       "      <td>95.150</td>\n",
       "      <td>3.4976</td>\n",
       "      <td>19.765</td>\n",
       "      <td>1059.7</td>\n",
       "      <td>549.98</td>\n",
       "      <td>114.72</td>\n",
       "      <td>10.612</td>\n",
       "      <td>3.2484</td>\n",
       "      <td>82.311</td>\n",
       "    </tr>\n",
       "    <tr>\n",
       "      <th>...</th>\n",
       "      <td>...</td>\n",
       "      <td>...</td>\n",
       "      <td>...</td>\n",
       "      <td>...</td>\n",
       "      <td>...</td>\n",
       "      <td>...</td>\n",
       "      <td>...</td>\n",
       "      <td>...</td>\n",
       "      <td>...</td>\n",
       "      <td>...</td>\n",
       "      <td>...</td>\n",
       "    </tr>\n",
       "    <tr>\n",
       "      <th>15034</th>\n",
       "      <td>9.0301</td>\n",
       "      <td>1005.6</td>\n",
       "      <td>98.460</td>\n",
       "      <td>3.5421</td>\n",
       "      <td>19.164</td>\n",
       "      <td>1049.7</td>\n",
       "      <td>546.21</td>\n",
       "      <td>111.61</td>\n",
       "      <td>10.400</td>\n",
       "      <td>4.5186</td>\n",
       "      <td>79.559</td>\n",
       "    </tr>\n",
       "    <tr>\n",
       "      <th>15035</th>\n",
       "      <td>7.8879</td>\n",
       "      <td>1005.9</td>\n",
       "      <td>99.093</td>\n",
       "      <td>3.5059</td>\n",
       "      <td>19.414</td>\n",
       "      <td>1046.3</td>\n",
       "      <td>543.22</td>\n",
       "      <td>111.78</td>\n",
       "      <td>10.433</td>\n",
       "      <td>4.8470</td>\n",
       "      <td>79.917</td>\n",
       "    </tr>\n",
       "    <tr>\n",
       "      <th>15036</th>\n",
       "      <td>7.2647</td>\n",
       "      <td>1006.3</td>\n",
       "      <td>99.496</td>\n",
       "      <td>3.4770</td>\n",
       "      <td>19.530</td>\n",
       "      <td>1037.7</td>\n",
       "      <td>537.32</td>\n",
       "      <td>110.19</td>\n",
       "      <td>10.483</td>\n",
       "      <td>7.9632</td>\n",
       "      <td>90.912</td>\n",
       "    </tr>\n",
       "    <tr>\n",
       "      <th>15037</th>\n",
       "      <td>7.0060</td>\n",
       "      <td>1006.8</td>\n",
       "      <td>99.008</td>\n",
       "      <td>3.4486</td>\n",
       "      <td>19.377</td>\n",
       "      <td>1043.2</td>\n",
       "      <td>541.24</td>\n",
       "      <td>110.74</td>\n",
       "      <td>10.533</td>\n",
       "      <td>6.2494</td>\n",
       "      <td>93.227</td>\n",
       "    </tr>\n",
       "    <tr>\n",
       "      <th>15038</th>\n",
       "      <td>6.9279</td>\n",
       "      <td>1007.2</td>\n",
       "      <td>97.533</td>\n",
       "      <td>3.4275</td>\n",
       "      <td>19.306</td>\n",
       "      <td>1049.9</td>\n",
       "      <td>545.85</td>\n",
       "      <td>111.58</td>\n",
       "      <td>10.583</td>\n",
       "      <td>4.9816</td>\n",
       "      <td>92.498</td>\n",
       "    </tr>\n",
       "  </tbody>\n",
       "</table>\n",
       "<p>15039 rows × 11 columns</p>\n",
       "</div>"
      ],
      "text/plain": [
       "           AT      AP      AH    AFDP    GTEP     TIT     TAT     TEY     CDP  \\\n",
       "0      6.8594  1007.9  96.799  3.5000  19.663  1059.2  550.00  114.70  10.605   \n",
       "1      6.7850  1008.4  97.118  3.4998  19.728  1059.3  550.00  114.72  10.598   \n",
       "2      6.8977  1008.8  95.939  3.4824  19.779  1059.4  549.87  114.71  10.601   \n",
       "3      7.0569  1009.2  95.249  3.4805  19.792  1059.6  549.99  114.72  10.606   \n",
       "4      7.3978  1009.7  95.150  3.4976  19.765  1059.7  549.98  114.72  10.612   \n",
       "...       ...     ...     ...     ...     ...     ...     ...     ...     ...   \n",
       "15034  9.0301  1005.6  98.460  3.5421  19.164  1049.7  546.21  111.61  10.400   \n",
       "15035  7.8879  1005.9  99.093  3.5059  19.414  1046.3  543.22  111.78  10.433   \n",
       "15036  7.2647  1006.3  99.496  3.4770  19.530  1037.7  537.32  110.19  10.483   \n",
       "15037  7.0060  1006.8  99.008  3.4486  19.377  1043.2  541.24  110.74  10.533   \n",
       "15038  6.9279  1007.2  97.533  3.4275  19.306  1049.9  545.85  111.58  10.583   \n",
       "\n",
       "           CO     NOX  \n",
       "0      3.1547  82.722  \n",
       "1      3.2363  82.776  \n",
       "2      3.2012  82.468  \n",
       "3      3.1923  82.670  \n",
       "4      3.2484  82.311  \n",
       "...       ...     ...  \n",
       "15034  4.5186  79.559  \n",
       "15035  4.8470  79.917  \n",
       "15036  7.9632  90.912  \n",
       "15037  6.2494  93.227  \n",
       "15038  4.9816  92.498  \n",
       "\n",
       "[15039 rows x 11 columns]"
      ]
     },
     "execution_count": 4,
     "metadata": {},
     "output_type": "execute_result"
    }
   ],
   "source": [
    "gas"
   ]
  },
  {
   "cell_type": "code",
   "execution_count": 5,
   "id": "351bce28",
   "metadata": {},
   "outputs": [
    {
     "data": {
      "text/plain": [
       "<function matplotlib.pyplot.show(close=None, block=None)>"
      ]
     },
     "execution_count": 5,
     "metadata": {},
     "output_type": "execute_result"
    },
    {
     "data": {
      "image/png": "[encoded data removed]",
      "text/plain": [
       "<Figure size 432x288 with 1 Axes>"
      ]
     },
     "metadata": {
      "needs_background": "light"
     },
     "output_type": "display_data"
    }
   ],
   "source": [
    "plt.plot(gas[\"TEY\"])\n",
    "plt.show"
   ]
  },
  {
   "cell_type": "code",
   "execution_count": 63,
   "id": "645db11e",
   "metadata": {},
   "outputs": [
    {
     "data": {
      "text/plain": [
       "<matplotlib.collections.PathCollection at 0x13d1b1e9df0>"
      ]
     },
     "execution_count": 63,
     "metadata": {},
     "output_type": "execute_result"
    },
    {
     "data": {
      "image/png": "[encoded data removed]",
      "text/plain": [
       "<Figure size 432x288 with 1 Axes>"
      ]
     },
     "metadata": {
      "needs_background": "light"
     },
     "output_type": "display_data"
    }
   ],
   "source": [
    "plt.scatter(x=gas[\"NOX\"],y=gas[\"CO\"],c=\"blue\")"
   ]
  },
  {
   "cell_type": "code",
   "execution_count": 7,
   "id": "046cb14a",
   "metadata": {},
   "outputs": [
    {
     "data": {
      "text/html": [
       "<div>\n",
       "<style scoped>\n",
       "    .dataframe tbody tr th:only-of-type {\n",
       "        vertical-align: middle;\n",
       "    }\n",
       "\n",
       "    .dataframe tbody tr th {\n",
       "        vertical-align: top;\n",
       "    }\n",
       "\n",
       "    .dataframe thead th {\n",
       "        text-align: right;\n",
       "    }\n",
       "</style>\n",
       "<table border=\"1\" class=\"dataframe\">\n",
       "  <thead>\n",
       "    <tr style=\"text-align: right;\">\n",
       "      <th></th>\n",
       "      <th>AT</th>\n",
       "      <th>AP</th>\n",
       "      <th>AH</th>\n",
       "      <th>AFDP</th>\n",
       "      <th>GTEP</th>\n",
       "      <th>TIT</th>\n",
       "      <th>TAT</th>\n",
       "      <th>TEY</th>\n",
       "      <th>CDP</th>\n",
       "      <th>CO</th>\n",
       "      <th>NOX</th>\n",
       "    </tr>\n",
       "  </thead>\n",
       "  <tbody>\n",
       "    <tr>\n",
       "      <th>count</th>\n",
       "      <td>15039.000000</td>\n",
       "      <td>15039.00000</td>\n",
       "      <td>15039.000000</td>\n",
       "      <td>15039.000000</td>\n",
       "      <td>15039.000000</td>\n",
       "      <td>15039.000000</td>\n",
       "      <td>15039.000000</td>\n",
       "      <td>15039.000000</td>\n",
       "      <td>15039.000000</td>\n",
       "      <td>15039.000000</td>\n",
       "      <td>15039.000000</td>\n",
       "    </tr>\n",
       "    <tr>\n",
       "      <th>mean</th>\n",
       "      <td>17.764381</td>\n",
       "      <td>1013.19924</td>\n",
       "      <td>79.124174</td>\n",
       "      <td>4.200294</td>\n",
       "      <td>25.419061</td>\n",
       "      <td>1083.798770</td>\n",
       "      <td>545.396183</td>\n",
       "      <td>134.188464</td>\n",
       "      <td>12.102353</td>\n",
       "      <td>1.972499</td>\n",
       "      <td>68.190934</td>\n",
       "    </tr>\n",
       "    <tr>\n",
       "      <th>std</th>\n",
       "      <td>7.574323</td>\n",
       "      <td>6.41076</td>\n",
       "      <td>13.793439</td>\n",
       "      <td>0.760197</td>\n",
       "      <td>4.173916</td>\n",
       "      <td>16.527806</td>\n",
       "      <td>7.866803</td>\n",
       "      <td>15.829717</td>\n",
       "      <td>1.103196</td>\n",
       "      <td>2.222206</td>\n",
       "      <td>10.470586</td>\n",
       "    </tr>\n",
       "    <tr>\n",
       "      <th>min</th>\n",
       "      <td>0.522300</td>\n",
       "      <td>985.85000</td>\n",
       "      <td>30.344000</td>\n",
       "      <td>2.087400</td>\n",
       "      <td>17.878000</td>\n",
       "      <td>1000.800000</td>\n",
       "      <td>512.450000</td>\n",
       "      <td>100.170000</td>\n",
       "      <td>9.904400</td>\n",
       "      <td>0.000388</td>\n",
       "      <td>27.765000</td>\n",
       "    </tr>\n",
       "    <tr>\n",
       "      <th>25%</th>\n",
       "      <td>11.408000</td>\n",
       "      <td>1008.90000</td>\n",
       "      <td>69.750000</td>\n",
       "      <td>3.723900</td>\n",
       "      <td>23.294000</td>\n",
       "      <td>1079.600000</td>\n",
       "      <td>542.170000</td>\n",
       "      <td>127.985000</td>\n",
       "      <td>11.622000</td>\n",
       "      <td>0.858055</td>\n",
       "      <td>61.303500</td>\n",
       "    </tr>\n",
       "    <tr>\n",
       "      <th>50%</th>\n",
       "      <td>18.186000</td>\n",
       "      <td>1012.80000</td>\n",
       "      <td>82.266000</td>\n",
       "      <td>4.186200</td>\n",
       "      <td>25.082000</td>\n",
       "      <td>1088.700000</td>\n",
       "      <td>549.890000</td>\n",
       "      <td>133.780000</td>\n",
       "      <td>12.025000</td>\n",
       "      <td>1.390200</td>\n",
       "      <td>66.601000</td>\n",
       "    </tr>\n",
       "    <tr>\n",
       "      <th>75%</th>\n",
       "      <td>23.862500</td>\n",
       "      <td>1016.90000</td>\n",
       "      <td>90.043500</td>\n",
       "      <td>4.550900</td>\n",
       "      <td>27.184000</td>\n",
       "      <td>1096.000000</td>\n",
       "      <td>550.060000</td>\n",
       "      <td>140.895000</td>\n",
       "      <td>12.578000</td>\n",
       "      <td>2.160400</td>\n",
       "      <td>73.935500</td>\n",
       "    </tr>\n",
       "    <tr>\n",
       "      <th>max</th>\n",
       "      <td>34.929000</td>\n",
       "      <td>1034.20000</td>\n",
       "      <td>100.200000</td>\n",
       "      <td>7.610600</td>\n",
       "      <td>37.402000</td>\n",
       "      <td>1100.800000</td>\n",
       "      <td>550.610000</td>\n",
       "      <td>174.610000</td>\n",
       "      <td>15.081000</td>\n",
       "      <td>44.103000</td>\n",
       "      <td>119.890000</td>\n",
       "    </tr>\n",
       "  </tbody>\n",
       "</table>\n",
       "</div>"
      ],
      "text/plain": [
       "                 AT           AP            AH          AFDP          GTEP  \\\n",
       "count  15039.000000  15039.00000  15039.000000  15039.000000  15039.000000   \n",
       "mean      17.764381   1013.19924     79.124174      4.200294     25.419061   \n",
       "std        7.574323      6.41076     13.793439      0.760197      4.173916   \n",
       "min        0.522300    985.85000     30.344000      2.087400     17.878000   \n",
       "25%       11.408000   1008.90000     69.750000      3.723900     23.294000   \n",
       "50%       18.186000   1012.80000     82.266000      4.186200     25.082000   \n",
       "75%       23.862500   1016.90000     90.043500      4.550900     27.184000   \n",
       "max       34.929000   1034.20000    100.200000      7.610600     37.402000   \n",
       "\n",
       "                TIT           TAT           TEY           CDP            CO  \\\n",
       "count  15039.000000  15039.000000  15039.000000  15039.000000  15039.000000   \n",
       "mean    1083.798770    545.396183    134.188464     12.102353      1.972499   \n",
       "std       16.527806      7.866803     15.829717      1.103196      2.222206   \n",
       "min     1000.800000    512.450000    100.170000      9.904400      0.000388   \n",
       "25%     1079.600000    542.170000    127.985000     11.622000      0.858055   \n",
       "50%     1088.700000    549.890000    133.780000     12.025000      1.390200   \n",
       "75%     1096.000000    550.060000    140.895000     12.578000      2.160400   \n",
       "max     1100.800000    550.610000    174.610000     15.081000     44.103000   \n",
       "\n",
       "                NOX  \n",
       "count  15039.000000  \n",
       "mean      68.190934  \n",
       "std       10.470586  \n",
       "min       27.765000  \n",
       "25%       61.303500  \n",
       "50%       66.601000  \n",
       "75%       73.935500  \n",
       "max      119.890000  "
      ]
     },
     "execution_count": 7,
     "metadata": {},
     "output_type": "execute_result"
    }
   ],
   "source": [
    "gas.describe()"
   ]
  },
  {
   "cell_type": "code",
   "execution_count": 8,
   "id": "dfe81bec",
   "metadata": {},
   "outputs": [
    {
     "data": {
      "text/plain": [
       "AT      0\n",
       "AP      0\n",
       "AH      0\n",
       "AFDP    0\n",
       "GTEP    0\n",
       "TIT     0\n",
       "TAT     0\n",
       "TEY     0\n",
       "CDP     0\n",
       "CO      0\n",
       "NOX     0\n",
       "dtype: int64"
      ]
     },
     "execution_count": 8,
     "metadata": {},
     "output_type": "execute_result"
    }
   ],
   "source": [
    "gas.isnull().sum()"
   ]
  },
  {
   "cell_type": "code",
   "execution_count": 9,
   "id": "ed8dc1c1",
   "metadata": {},
   "outputs": [],
   "source": [
    "def norm(i):\n",
    "    x=(i-i.min())/(i.max()-i.min())\n",
    "    return(x)"
   ]
  },
  {
   "cell_type": "code",
   "execution_count": 10,
   "id": "2bb9eb7e",
   "metadata": {},
   "outputs": [],
   "source": [
    "gas_norm = norm(gas)"
   ]
  },
  {
   "cell_type": "code",
   "execution_count": 11,
   "id": "6a9ac45a",
   "metadata": {},
   "outputs": [
    {
     "data": {
      "text/html": [
       "<div>\n",
       "<style scoped>\n",
       "    .dataframe tbody tr th:only-of-type {\n",
       "        vertical-align: middle;\n",
       "    }\n",
       "\n",
       "    .dataframe tbody tr th {\n",
       "        vertical-align: top;\n",
       "    }\n",
       "\n",
       "    .dataframe thead th {\n",
       "        text-align: right;\n",
       "    }\n",
       "</style>\n",
       "<table border=\"1\" class=\"dataframe\">\n",
       "  <thead>\n",
       "    <tr style=\"text-align: right;\">\n",
       "      <th></th>\n",
       "      <th>AT</th>\n",
       "      <th>AP</th>\n",
       "      <th>AH</th>\n",
       "      <th>AFDP</th>\n",
       "      <th>GTEP</th>\n",
       "      <th>TIT</th>\n",
       "      <th>TAT</th>\n",
       "      <th>TEY</th>\n",
       "      <th>CDP</th>\n",
       "      <th>CO</th>\n",
       "      <th>NOX</th>\n",
       "    </tr>\n",
       "  </thead>\n",
       "  <tbody>\n",
       "    <tr>\n",
       "      <th>0</th>\n",
       "      <td>0.184182</td>\n",
       "      <td>0.456050</td>\n",
       "      <td>0.951314</td>\n",
       "      <td>0.255758</td>\n",
       "      <td>0.091426</td>\n",
       "      <td>0.584</td>\n",
       "      <td>0.984015</td>\n",
       "      <td>0.195191</td>\n",
       "      <td>0.135340</td>\n",
       "      <td>0.071522</td>\n",
       "      <td>0.596548</td>\n",
       "    </tr>\n",
       "    <tr>\n",
       "      <th>1</th>\n",
       "      <td>0.182020</td>\n",
       "      <td>0.466391</td>\n",
       "      <td>0.955881</td>\n",
       "      <td>0.255721</td>\n",
       "      <td>0.094755</td>\n",
       "      <td>0.585</td>\n",
       "      <td>0.984015</td>\n",
       "      <td>0.195459</td>\n",
       "      <td>0.133988</td>\n",
       "      <td>0.073372</td>\n",
       "      <td>0.597134</td>\n",
       "    </tr>\n",
       "    <tr>\n",
       "      <th>2</th>\n",
       "      <td>0.185295</td>\n",
       "      <td>0.474664</td>\n",
       "      <td>0.939003</td>\n",
       "      <td>0.252571</td>\n",
       "      <td>0.097367</td>\n",
       "      <td>0.586</td>\n",
       "      <td>0.980608</td>\n",
       "      <td>0.195325</td>\n",
       "      <td>0.134567</td>\n",
       "      <td>0.072576</td>\n",
       "      <td>0.593791</td>\n",
       "    </tr>\n",
       "    <tr>\n",
       "      <th>3</th>\n",
       "      <td>0.189922</td>\n",
       "      <td>0.482937</td>\n",
       "      <td>0.929126</td>\n",
       "      <td>0.252227</td>\n",
       "      <td>0.098033</td>\n",
       "      <td>0.588</td>\n",
       "      <td>0.983753</td>\n",
       "      <td>0.195459</td>\n",
       "      <td>0.135533</td>\n",
       "      <td>0.072375</td>\n",
       "      <td>0.595984</td>\n",
       "    </tr>\n",
       "    <tr>\n",
       "      <th>4</th>\n",
       "      <td>0.199830</td>\n",
       "      <td>0.493278</td>\n",
       "      <td>0.927708</td>\n",
       "      <td>0.255323</td>\n",
       "      <td>0.096650</td>\n",
       "      <td>0.589</td>\n",
       "      <td>0.983491</td>\n",
       "      <td>0.195459</td>\n",
       "      <td>0.136692</td>\n",
       "      <td>0.073647</td>\n",
       "      <td>0.592087</td>\n",
       "    </tr>\n",
       "    <tr>\n",
       "      <th>...</th>\n",
       "      <td>...</td>\n",
       "      <td>...</td>\n",
       "      <td>...</td>\n",
       "      <td>...</td>\n",
       "      <td>...</td>\n",
       "      <td>...</td>\n",
       "      <td>...</td>\n",
       "      <td>...</td>\n",
       "      <td>...</td>\n",
       "      <td>...</td>\n",
       "      <td>...</td>\n",
       "    </tr>\n",
       "    <tr>\n",
       "      <th>15034</th>\n",
       "      <td>0.247272</td>\n",
       "      <td>0.408480</td>\n",
       "      <td>0.975092</td>\n",
       "      <td>0.263380</td>\n",
       "      <td>0.065868</td>\n",
       "      <td>0.489</td>\n",
       "      <td>0.884696</td>\n",
       "      <td>0.153681</td>\n",
       "      <td>0.095739</td>\n",
       "      <td>0.102448</td>\n",
       "      <td>0.562214</td>\n",
       "    </tr>\n",
       "    <tr>\n",
       "      <th>15035</th>\n",
       "      <td>0.214075</td>\n",
       "      <td>0.414685</td>\n",
       "      <td>0.984153</td>\n",
       "      <td>0.256826</td>\n",
       "      <td>0.078672</td>\n",
       "      <td>0.455</td>\n",
       "      <td>0.806342</td>\n",
       "      <td>0.155965</td>\n",
       "      <td>0.102113</td>\n",
       "      <td>0.109894</td>\n",
       "      <td>0.566100</td>\n",
       "    </tr>\n",
       "    <tr>\n",
       "      <th>15036</th>\n",
       "      <td>0.195962</td>\n",
       "      <td>0.422958</td>\n",
       "      <td>0.989922</td>\n",
       "      <td>0.251593</td>\n",
       "      <td>0.084614</td>\n",
       "      <td>0.369</td>\n",
       "      <td>0.651730</td>\n",
       "      <td>0.134605</td>\n",
       "      <td>0.111772</td>\n",
       "      <td>0.180552</td>\n",
       "      <td>0.685449</td>\n",
       "    </tr>\n",
       "    <tr>\n",
       "      <th>15037</th>\n",
       "      <td>0.188443</td>\n",
       "      <td>0.433299</td>\n",
       "      <td>0.982936</td>\n",
       "      <td>0.246451</td>\n",
       "      <td>0.076777</td>\n",
       "      <td>0.424</td>\n",
       "      <td>0.754455</td>\n",
       "      <td>0.141994</td>\n",
       "      <td>0.121431</td>\n",
       "      <td>0.141693</td>\n",
       "      <td>0.710578</td>\n",
       "    </tr>\n",
       "    <tr>\n",
       "      <th>15038</th>\n",
       "      <td>0.186173</td>\n",
       "      <td>0.441572</td>\n",
       "      <td>0.961821</td>\n",
       "      <td>0.242631</td>\n",
       "      <td>0.073141</td>\n",
       "      <td>0.491</td>\n",
       "      <td>0.875262</td>\n",
       "      <td>0.153278</td>\n",
       "      <td>0.131090</td>\n",
       "      <td>0.112946</td>\n",
       "      <td>0.702665</td>\n",
       "    </tr>\n",
       "  </tbody>\n",
       "</table>\n",
       "<p>15039 rows × 11 columns</p>\n",
       "</div>"
      ],
      "text/plain": [
       "             AT        AP        AH      AFDP      GTEP    TIT       TAT  \\\n",
       "0      0.184182  0.456050  0.951314  0.255758  0.091426  0.584  0.984015   \n",
       "1      0.182020  0.466391  0.955881  0.255721  0.094755  0.585  0.984015   \n",
       "2      0.185295  0.474664  0.939003  0.252571  0.097367  0.586  0.980608   \n",
       "3      0.189922  0.482937  0.929126  0.252227  0.098033  0.588  0.983753   \n",
       "4      0.199830  0.493278  0.927708  0.255323  0.096650  0.589  0.983491   \n",
       "...         ...       ...       ...       ...       ...    ...       ...   \n",
       "15034  0.247272  0.408480  0.975092  0.263380  0.065868  0.489  0.884696   \n",
       "15035  0.214075  0.414685  0.984153  0.256826  0.078672  0.455  0.806342   \n",
       "15036  0.195962  0.422958  0.989922  0.251593  0.084614  0.369  0.651730   \n",
       "15037  0.188443  0.433299  0.982936  0.246451  0.076777  0.424  0.754455   \n",
       "15038  0.186173  0.441572  0.961821  0.242631  0.073141  0.491  0.875262   \n",
       "\n",
       "            TEY       CDP        CO       NOX  \n",
       "0      0.195191  0.135340  0.071522  0.596548  \n",
       "1      0.195459  0.133988  0.073372  0.597134  \n",
       "2      0.195325  0.134567  0.072576  0.593791  \n",
       "3      0.195459  0.135533  0.072375  0.595984  \n",
       "4      0.195459  0.136692  0.073647  0.592087  \n",
       "...         ...       ...       ...       ...  \n",
       "15034  0.153681  0.095739  0.102448  0.562214  \n",
       "15035  0.155965  0.102113  0.109894  0.566100  \n",
       "15036  0.134605  0.111772  0.180552  0.685449  \n",
       "15037  0.141994  0.121431  0.141693  0.710578  \n",
       "15038  0.153278  0.131090  0.112946  0.702665  \n",
       "\n",
       "[15039 rows x 11 columns]"
      ]
     },
     "execution_count": 11,
     "metadata": {},
     "output_type": "execute_result"
    }
   ],
   "source": [
    "gas_norm"
   ]
  },
  {
   "cell_type": "code",
   "execution_count": 12,
   "id": "d54927ca",
   "metadata": {},
   "outputs": [
    {
     "data": {
      "text/plain": [
       "(15039, 11)"
      ]
     },
     "execution_count": 12,
     "metadata": {},
     "output_type": "execute_result"
    }
   ],
   "source": [
    "gas.shape"
   ]
  },
  {
   "cell_type": "code",
   "execution_count": 13,
   "id": "b9fdc20e",
   "metadata": {},
   "outputs": [],
   "source": [
    "cols_at_end = ['TEY']\n",
    "gas_norm = gas_norm[[TEY for TEY in gas_norm if TEY not in cols_at_end] \n",
    "        + [TEY for TEY in cols_at_end if TEY in gas_norm]]"
   ]
  },
  {
   "cell_type": "code",
   "execution_count": 14,
   "id": "c0354f41",
   "metadata": {},
   "outputs": [
    {
     "data": {
      "text/html": [
       "<div>\n",
       "<style scoped>\n",
       "    .dataframe tbody tr th:only-of-type {\n",
       "        vertical-align: middle;\n",
       "    }\n",
       "\n",
       "    .dataframe tbody tr th {\n",
       "        vertical-align: top;\n",
       "    }\n",
       "\n",
       "    .dataframe thead th {\n",
       "        text-align: right;\n",
       "    }\n",
       "</style>\n",
       "<table border=\"1\" class=\"dataframe\">\n",
       "  <thead>\n",
       "    <tr style=\"text-align: right;\">\n",
       "      <th></th>\n",
       "      <th>AT</th>\n",
       "      <th>AP</th>\n",
       "      <th>AH</th>\n",
       "      <th>AFDP</th>\n",
       "      <th>GTEP</th>\n",
       "      <th>TIT</th>\n",
       "      <th>TAT</th>\n",
       "      <th>CDP</th>\n",
       "      <th>CO</th>\n",
       "      <th>NOX</th>\n",
       "      <th>TEY</th>\n",
       "    </tr>\n",
       "  </thead>\n",
       "  <tbody>\n",
       "    <tr>\n",
       "      <th>0</th>\n",
       "      <td>0.184182</td>\n",
       "      <td>0.456050</td>\n",
       "      <td>0.951314</td>\n",
       "      <td>0.255758</td>\n",
       "      <td>0.091426</td>\n",
       "      <td>0.584</td>\n",
       "      <td>0.984015</td>\n",
       "      <td>0.135340</td>\n",
       "      <td>0.071522</td>\n",
       "      <td>0.596548</td>\n",
       "      <td>0.195191</td>\n",
       "    </tr>\n",
       "    <tr>\n",
       "      <th>1</th>\n",
       "      <td>0.182020</td>\n",
       "      <td>0.466391</td>\n",
       "      <td>0.955881</td>\n",
       "      <td>0.255721</td>\n",
       "      <td>0.094755</td>\n",
       "      <td>0.585</td>\n",
       "      <td>0.984015</td>\n",
       "      <td>0.133988</td>\n",
       "      <td>0.073372</td>\n",
       "      <td>0.597134</td>\n",
       "      <td>0.195459</td>\n",
       "    </tr>\n",
       "    <tr>\n",
       "      <th>2</th>\n",
       "      <td>0.185295</td>\n",
       "      <td>0.474664</td>\n",
       "      <td>0.939003</td>\n",
       "      <td>0.252571</td>\n",
       "      <td>0.097367</td>\n",
       "      <td>0.586</td>\n",
       "      <td>0.980608</td>\n",
       "      <td>0.134567</td>\n",
       "      <td>0.072576</td>\n",
       "      <td>0.593791</td>\n",
       "      <td>0.195325</td>\n",
       "    </tr>\n",
       "    <tr>\n",
       "      <th>3</th>\n",
       "      <td>0.189922</td>\n",
       "      <td>0.482937</td>\n",
       "      <td>0.929126</td>\n",
       "      <td>0.252227</td>\n",
       "      <td>0.098033</td>\n",
       "      <td>0.588</td>\n",
       "      <td>0.983753</td>\n",
       "      <td>0.135533</td>\n",
       "      <td>0.072375</td>\n",
       "      <td>0.595984</td>\n",
       "      <td>0.195459</td>\n",
       "    </tr>\n",
       "    <tr>\n",
       "      <th>4</th>\n",
       "      <td>0.199830</td>\n",
       "      <td>0.493278</td>\n",
       "      <td>0.927708</td>\n",
       "      <td>0.255323</td>\n",
       "      <td>0.096650</td>\n",
       "      <td>0.589</td>\n",
       "      <td>0.983491</td>\n",
       "      <td>0.136692</td>\n",
       "      <td>0.073647</td>\n",
       "      <td>0.592087</td>\n",
       "      <td>0.195459</td>\n",
       "    </tr>\n",
       "    <tr>\n",
       "      <th>...</th>\n",
       "      <td>...</td>\n",
       "      <td>...</td>\n",
       "      <td>...</td>\n",
       "      <td>...</td>\n",
       "      <td>...</td>\n",
       "      <td>...</td>\n",
       "      <td>...</td>\n",
       "      <td>...</td>\n",
       "      <td>...</td>\n",
       "      <td>...</td>\n",
       "      <td>...</td>\n",
       "    </tr>\n",
       "    <tr>\n",
       "      <th>15034</th>\n",
       "      <td>0.247272</td>\n",
       "      <td>0.408480</td>\n",
       "      <td>0.975092</td>\n",
       "      <td>0.263380</td>\n",
       "      <td>0.065868</td>\n",
       "      <td>0.489</td>\n",
       "      <td>0.884696</td>\n",
       "      <td>0.095739</td>\n",
       "      <td>0.102448</td>\n",
       "      <td>0.562214</td>\n",
       "      <td>0.153681</td>\n",
       "    </tr>\n",
       "    <tr>\n",
       "      <th>15035</th>\n",
       "      <td>0.214075</td>\n",
       "      <td>0.414685</td>\n",
       "      <td>0.984153</td>\n",
       "      <td>0.256826</td>\n",
       "      <td>0.078672</td>\n",
       "      <td>0.455</td>\n",
       "      <td>0.806342</td>\n",
       "      <td>0.102113</td>\n",
       "      <td>0.109894</td>\n",
       "      <td>0.566100</td>\n",
       "      <td>0.155965</td>\n",
       "    </tr>\n",
       "    <tr>\n",
       "      <th>15036</th>\n",
       "      <td>0.195962</td>\n",
       "      <td>0.422958</td>\n",
       "      <td>0.989922</td>\n",
       "      <td>0.251593</td>\n",
       "      <td>0.084614</td>\n",
       "      <td>0.369</td>\n",
       "      <td>0.651730</td>\n",
       "      <td>0.111772</td>\n",
       "      <td>0.180552</td>\n",
       "      <td>0.685449</td>\n",
       "      <td>0.134605</td>\n",
       "    </tr>\n",
       "    <tr>\n",
       "      <th>15037</th>\n",
       "      <td>0.188443</td>\n",
       "      <td>0.433299</td>\n",
       "      <td>0.982936</td>\n",
       "      <td>0.246451</td>\n",
       "      <td>0.076777</td>\n",
       "      <td>0.424</td>\n",
       "      <td>0.754455</td>\n",
       "      <td>0.121431</td>\n",
       "      <td>0.141693</td>\n",
       "      <td>0.710578</td>\n",
       "      <td>0.141994</td>\n",
       "    </tr>\n",
       "    <tr>\n",
       "      <th>15038</th>\n",
       "      <td>0.186173</td>\n",
       "      <td>0.441572</td>\n",
       "      <td>0.961821</td>\n",
       "      <td>0.242631</td>\n",
       "      <td>0.073141</td>\n",
       "      <td>0.491</td>\n",
       "      <td>0.875262</td>\n",
       "      <td>0.131090</td>\n",
       "      <td>0.112946</td>\n",
       "      <td>0.702665</td>\n",
       "      <td>0.153278</td>\n",
       "    </tr>\n",
       "  </tbody>\n",
       "</table>\n",
       "<p>15039 rows × 11 columns</p>\n",
       "</div>"
      ],
      "text/plain": [
       "             AT        AP        AH      AFDP      GTEP    TIT       TAT  \\\n",
       "0      0.184182  0.456050  0.951314  0.255758  0.091426  0.584  0.984015   \n",
       "1      0.182020  0.466391  0.955881  0.255721  0.094755  0.585  0.984015   \n",
       "2      0.185295  0.474664  0.939003  0.252571  0.097367  0.586  0.980608   \n",
       "3      0.189922  0.482937  0.929126  0.252227  0.098033  0.588  0.983753   \n",
       "4      0.199830  0.493278  0.927708  0.255323  0.096650  0.589  0.983491   \n",
       "...         ...       ...       ...       ...       ...    ...       ...   \n",
       "15034  0.247272  0.408480  0.975092  0.263380  0.065868  0.489  0.884696   \n",
       "15035  0.214075  0.414685  0.984153  0.256826  0.078672  0.455  0.806342   \n",
       "15036  0.195962  0.422958  0.989922  0.251593  0.084614  0.369  0.651730   \n",
       "15037  0.188443  0.433299  0.982936  0.246451  0.076777  0.424  0.754455   \n",
       "15038  0.186173  0.441572  0.961821  0.242631  0.073141  0.491  0.875262   \n",
       "\n",
       "            CDP        CO       NOX       TEY  \n",
       "0      0.135340  0.071522  0.596548  0.195191  \n",
       "1      0.133988  0.073372  0.597134  0.195459  \n",
       "2      0.134567  0.072576  0.593791  0.195325  \n",
       "3      0.135533  0.072375  0.595984  0.195459  \n",
       "4      0.136692  0.073647  0.592087  0.195459  \n",
       "...         ...       ...       ...       ...  \n",
       "15034  0.095739  0.102448  0.562214  0.153681  \n",
       "15035  0.102113  0.109894  0.566100  0.155965  \n",
       "15036  0.111772  0.180552  0.685449  0.134605  \n",
       "15037  0.121431  0.141693  0.710578  0.141994  \n",
       "15038  0.131090  0.112946  0.702665  0.153278  \n",
       "\n",
       "[15039 rows x 11 columns]"
      ]
     },
     "execution_count": 14,
     "metadata": {},
     "output_type": "execute_result"
    }
   ],
   "source": [
    "gas_norm"
   ]
  },
  {
   "cell_type": "code",
   "execution_count": 15,
   "id": "b351634e",
   "metadata": {},
   "outputs": [],
   "source": [
    "from sklearn.model_selection import train_test_split\n"
   ]
  },
  {
   "cell_type": "code",
   "execution_count": 62,
   "id": "4f0971df",
   "metadata": {},
   "outputs": [
    {
     "data": {
      "text/plain": [
       "(array([1.3649e+04, 1.1880e+03, 1.5800e+02, 1.3000e+01, 6.0000e+00,\n",
       "        2.0000e+00, 8.0000e+00, 9.0000e+00, 2.0000e+00, 4.0000e+00]),\n",
       " array([0. , 0.1, 0.2, 0.3, 0.4, 0.5, 0.6, 0.7, 0.8, 0.9, 1. ]),\n",
       " <BarContainer object of 10 artists>)"
      ]
     },
     "execution_count": 62,
     "metadata": {},
     "output_type": "execute_result"
    },
    {
     "data": {
      "image/png": "[encoded data removed]",
      "text/plain": [
       "<Figure size 432x288 with 1 Axes>"
      ]
     },
     "metadata": {
      "needs_background": "light"
     },
     "output_type": "display_data"
    }
   ],
   "source": [
    "plt.hist(gas_norm[\"CO\"])"
   ]
  },
  {
   "cell_type": "code",
   "execution_count": 61,
   "id": "7c1fabf7",
   "metadata": {},
   "outputs": [
    {
     "data": {
      "text/plain": [
       "(array([ 659., 2389.,  526., 3345., 4290.,  396., 1098., 1521.,  765.,\n",
       "          50.]),\n",
       " array([0. , 0.1, 0.2, 0.3, 0.4, 0.5, 0.6, 0.7, 0.8, 0.9, 1. ]),\n",
       " <BarContainer object of 10 artists>)"
      ]
     },
     "execution_count": 61,
     "metadata": {},
     "output_type": "execute_result"
    },
    {
     "data": {
      "image/png": "[encoded data removed]",
      "text/plain": [
       "<Figure size 432x288 with 1 Axes>"
      ]
     },
     "metadata": {
      "needs_background": "light"
     },
     "output_type": "display_data"
    }
   ],
   "source": [
    "plt.hist(gas_norm[\"CDP\"])"
   ]
  },
  {
   "cell_type": "code",
   "execution_count": 59,
   "id": "4db03bea",
   "metadata": {},
   "outputs": [
    {
     "data": {
      "text/plain": [
       "(array([   14.,    39.,    85.,   556.,   955.,   775.,   776.,   688.,\n",
       "          525., 10626.]),\n",
       " array([0. , 0.1, 0.2, 0.3, 0.4, 0.5, 0.6, 0.7, 0.8, 0.9, 1. ]),\n",
       " <BarContainer object of 10 artists>)"
      ]
     },
     "execution_count": 59,
     "metadata": {},
     "output_type": "execute_result"
    },
    {
     "data": {
      "image/png": "[encoded data removed]",
      "text/plain": [
       "<Figure size 432x288 with 1 Axes>"
      ]
     },
     "metadata": {
      "needs_background": "light"
     },
     "output_type": "display_data"
    }
   ],
   "source": [
    "plt.hist(gas_norm[\"TAT\"])"
   ]
  },
  {
   "cell_type": "code",
   "execution_count": 58,
   "id": "e3a4ef64",
   "metadata": {},
   "outputs": [
    {
     "data": {
      "text/plain": [
       "(array([5.000e+00, 1.000e+00, 5.000e+01, 1.630e+02, 3.690e+02, 2.080e+03,\n",
       "        6.680e+02, 4.900e+02, 4.906e+03, 6.307e+03]),\n",
       " array([0. , 0.1, 0.2, 0.3, 0.4, 0.5, 0.6, 0.7, 0.8, 0.9, 1. ]),\n",
       " <BarContainer object of 10 artists>)"
      ]
     },
     "execution_count": 58,
     "metadata": {},
     "output_type": "execute_result"
    },
    {
     "data": {
      "image/png": "[encoded data removed]",
      "text/plain": [
       "<Figure size 432x288 with 1 Axes>"
      ]
     },
     "metadata": {
      "needs_background": "light"
     },
     "output_type": "display_data"
    }
   ],
   "source": [
    "plt.hist(gas_norm[\"TIT\"])"
   ]
  },
  {
   "cell_type": "code",
   "execution_count": 57,
   "id": "959099a1",
   "metadata": {},
   "outputs": [
    {
     "data": {
      "text/plain": [
       "(array([1650., 1600., 1276., 4636., 2198.,  462., 1343., 1532.,  305.,\n",
       "          37.]),\n",
       " array([0. , 0.1, 0.2, 0.3, 0.4, 0.5, 0.6, 0.7, 0.8, 0.9, 1. ]),\n",
       " <BarContainer object of 10 artists>)"
      ]
     },
     "execution_count": 57,
     "metadata": {},
     "output_type": "execute_result"
    },
    {
     "data": {
      "image/png": "[encoded data removed]",
      "text/plain": [
       "<Figure size 432x288 with 1 Axes>"
      ]
     },
     "metadata": {
      "needs_background": "light"
     },
     "output_type": "display_data"
    }
   ],
   "source": [
    "plt.hist(gas_norm[\"GTEP\"])"
   ]
  },
  {
   "cell_type": "code",
   "execution_count": 56,
   "id": "43040390",
   "metadata": {},
   "outputs": [
    {
     "data": {
      "text/plain": [
       "(array([1.710e+02, 1.317e+03, 2.388e+03, 4.698e+03, 3.924e+03, 1.392e+03,\n",
       "        8.300e+02, 3.050e+02, 1.000e+01, 4.000e+00]),\n",
       " array([0. , 0.1, 0.2, 0.3, 0.4, 0.5, 0.6, 0.7, 0.8, 0.9, 1. ]),\n",
       " <BarContainer object of 10 artists>)"
      ]
     },
     "execution_count": 56,
     "metadata": {},
     "output_type": "execute_result"
    },
    {
     "data": {
      "image/png": "[encoded data removed]",
      "text/plain": [
       "<Figure size 432x288 with 1 Axes>"
      ]
     },
     "metadata": {
      "needs_background": "light"
     },
     "output_type": "display_data"
    }
   ],
   "source": [
    "plt.hist(gas_norm[\"AFDP\"])"
   ]
  },
  {
   "cell_type": "code",
   "execution_count": 16,
   "id": "d555cba3",
   "metadata": {},
   "outputs": [
    {
     "data": {
      "text/plain": [
       "(array([  29.,   47.,  206.,  973., 3477., 4783., 3086., 1668.,  697.,\n",
       "          73.]),\n",
       " array([0. , 0.1, 0.2, 0.3, 0.4, 0.5, 0.6, 0.7, 0.8, 0.9, 1. ]),\n",
       " <BarContainer object of 10 artists>)"
      ]
     },
     "execution_count": 16,
     "metadata": {},
     "output_type": "execute_result"
    },
    {
     "data": {
      "image/png": "[encoded data removed]",
      "text/plain": [
       "<Figure size 432x288 with 1 Axes>"
      ]
     },
     "metadata": {
      "needs_background": "light"
     },
     "output_type": "display_data"
    }
   ],
   "source": [
    "plt.hist(gas_norm[\"AP\"])"
   ]
  },
  {
   "cell_type": "code",
   "execution_count": 17,
   "id": "4257c8ca",
   "metadata": {},
   "outputs": [
    {
     "data": {
      "text/plain": [
       "(array([   5.,   21.,   54.,   91.,  140.,  285.,  358.,  506.,  569.,\n",
       "         727.,  756.,  904.,  969., 1067., 1264., 1535., 1836., 1880.,\n",
       "        1229.,  843.]),\n",
       " array([0.  , 0.05, 0.1 , 0.15, 0.2 , 0.25, 0.3 , 0.35, 0.4 , 0.45, 0.5 ,\n",
       "        0.55, 0.6 , 0.65, 0.7 , 0.75, 0.8 , 0.85, 0.9 , 0.95, 1.  ]),\n",
       " <BarContainer object of 20 artists>)"
      ]
     },
     "execution_count": 17,
     "metadata": {},
     "output_type": "execute_result"
    },
    {
     "data": {
      "image/png": "[encoded data removed]",
      "text/plain": [
       "<Figure size 432x288 with 1 Axes>"
      ]
     },
     "metadata": {
      "needs_background": "light"
     },
     "output_type": "display_data"
    }
   ],
   "source": [
    "plt.hist(gas_norm[\"AH\"],bins=20)"
   ]
  },
  {
   "cell_type": "code",
   "execution_count": 18,
   "id": "9f059b37",
   "metadata": {},
   "outputs": [
    {
     "data": {
      "text/plain": [
       "(array([ 236., 1297., 1877., 2005., 1880., 2190., 2278., 1884., 1088.,\n",
       "         304.]),\n",
       " array([0. , 0.1, 0.2, 0.3, 0.4, 0.5, 0.6, 0.7, 0.8, 0.9, 1. ]),\n",
       " <BarContainer object of 10 artists>)"
      ]
     },
     "execution_count": 18,
     "metadata": {},
     "output_type": "execute_result"
    },
    {
     "data": {
      "image/png": "[encoded data removed]",
      "text/plain": [
       "<Figure size 432x288 with 1 Axes>"
      ]
     },
     "metadata": {
      "needs_background": "light"
     },
     "output_type": "display_data"
    }
   ],
   "source": [
    "plt.hist(gas_norm[\"AT\"])\n",
    "\n"
   ]
  },
  {
   "cell_type": "code",
   "execution_count": 19,
   "id": "2f0e12d5",
   "metadata": {},
   "outputs": [
    {
     "data": {
      "text/plain": [
       "(array([ 247., 2671.,  474.,  528., 7145.,  462.,  989., 1215., 1160.,\n",
       "         148.]),\n",
       " array([0. , 0.1, 0.2, 0.3, 0.4, 0.5, 0.6, 0.7, 0.8, 0.9, 1. ]),\n",
       " <BarContainer object of 10 artists>)"
      ]
     },
     "execution_count": 19,
     "metadata": {},
     "output_type": "execute_result"
    },
    {
     "data": {
      "image/png": "[encoded data removed]",
      "text/plain": [
       "<Figure size 432x288 with 1 Axes>"
      ]
     },
     "metadata": {
      "needs_background": "light"
     },
     "output_type": "display_data"
    }
   ],
   "source": [
    "plt.hist(gas_norm[\"TEY\"])"
   ]
  },
  {
   "cell_type": "code",
   "execution_count": 20,
   "id": "3650d8ba",
   "metadata": {},
   "outputs": [],
   "source": [
    "x = gas_norm.iloc[:,0:10]\n",
    "y  =  gas_norm.iloc[:,10]"
   ]
  },
  {
   "cell_type": "code",
   "execution_count": 21,
   "id": "927748f7",
   "metadata": {},
   "outputs": [],
   "source": [
    "x_train,x_test,y_train,y_test = train_test_split(x,y,test_size = 0.3,random_state= 42)"
   ]
  },
  {
   "cell_type": "code",
   "execution_count": 22,
   "id": "e3ec6160",
   "metadata": {},
   "outputs": [],
   "source": [
    "from sklearn.model_selection import GridSearchCV, KFold\n",
    "from keras.wrappers.scikit_learn import KerasRegressor\n",
    "from keras.optimizers import Adam"
   ]
  },
  {
   "cell_type": "markdown",
   "id": "891056bc",
   "metadata": {},
   "source": [
    "## tuning of batch size and epochs"
   ]
  },
  {
   "cell_type": "code",
   "execution_count": 24,
   "id": "11a02447",
   "metadata": {},
   "outputs": [],
   "source": [
    "def create_model():\n",
    "    model = Sequential()\n",
    "    model.add(Dense(512,input_dim=10, activation='relu',kernel_initializer=\"normal\"))\n",
    "    model.add(Dense(512,activation='relu',kernel_initializer='normal'))\n",
    "    model.add(Dense(1)) # no activation (linear layer)\n",
    "    model.compile(optimizer = \"Adam\", loss = \"mse\",metrics =[\"mae\"])\n",
    "    return model"
   ]
  },
  {
   "cell_type": "code",
   "execution_count": 26,
   "id": "61fe88b9",
   "metadata": {},
   "outputs": [
    {
     "name": "stdout",
     "output_type": "stream",
     "text": [
      "Fitting 5 folds for each of 9 candidates, totalling 45 fits\n",
      "[CV 1/5; 1/9] START batch_size=128, epochs=10...................................\n",
      "[CV 1/5; 1/9] END ...batch_size=128, epochs=10;, score=-0.000 total time=   4.5s\n",
      "[CV 2/5; 1/9] START batch_size=128, epochs=10...................................\n",
      "[CV 2/5; 1/9] END ...batch_size=128, epochs=10;, score=-0.000 total time=   3.5s\n",
      "[CV 3/5; 1/9] START batch_size=128, epochs=10...................................\n",
      "[CV 3/5; 1/9] END ...batch_size=128, epochs=10;, score=-0.000 total time=   5.1s\n",
      "[CV 4/5; 1/9] START batch_size=128, epochs=10...................................\n",
      "[CV 4/5; 1/9] END ...batch_size=128, epochs=10;, score=-0.000 total time=   4.4s\n",
      "[CV 5/5; 1/9] START batch_size=128, epochs=10...................................\n",
      "[CV 5/5; 1/9] END ...batch_size=128, epochs=10;, score=-0.000 total time=   4.1s\n",
      "[CV 1/5; 2/9] START batch_size=128, epochs=50...................................\n",
      "[CV 1/5; 2/9] END ...batch_size=128, epochs=50;, score=-0.000 total time=  18.7s\n",
      "[CV 2/5; 2/9] START batch_size=128, epochs=50...................................\n",
      "[CV 2/5; 2/9] END ...batch_size=128, epochs=50;, score=-0.000 total time=  18.6s\n",
      "[CV 3/5; 2/9] START batch_size=128, epochs=50...................................\n",
      "[CV 3/5; 2/9] END ...batch_size=128, epochs=50;, score=-0.000 total time=  18.6s\n",
      "[CV 4/5; 2/9] START batch_size=128, epochs=50...................................\n",
      "[CV 4/5; 2/9] END ...batch_size=128, epochs=50;, score=-0.000 total time=  18.5s\n",
      "[CV 5/5; 2/9] START batch_size=128, epochs=50...................................\n",
      "[CV 5/5; 2/9] END ...batch_size=128, epochs=50;, score=-0.000 total time=  19.7s\n",
      "[CV 1/5; 3/9] START batch_size=128, epochs=100..................................\n",
      "[CV 1/5; 3/9] END ..batch_size=128, epochs=100;, score=-0.000 total time=  38.1s\n",
      "[CV 2/5; 3/9] START batch_size=128, epochs=100..................................\n",
      "[CV 2/5; 3/9] END ..batch_size=128, epochs=100;, score=-0.000 total time=  36.7s\n",
      "[CV 3/5; 3/9] START batch_size=128, epochs=100..................................\n",
      "[CV 3/5; 3/9] END ..batch_size=128, epochs=100;, score=-0.000 total time=  34.5s\n",
      "[CV 4/5; 3/9] START batch_size=128, epochs=100..................................\n",
      "[CV 4/5; 3/9] END ..batch_size=128, epochs=100;, score=-0.000 total time=  40.8s\n",
      "[CV 5/5; 3/9] START batch_size=128, epochs=100..................................\n",
      "[CV 5/5; 3/9] END ..batch_size=128, epochs=100;, score=-0.000 total time=  44.9s\n",
      "[CV 1/5; 4/9] START batch_size=256, epochs=10...................................\n",
      "[CV 1/5; 4/9] END ...batch_size=256, epochs=10;, score=-0.000 total time=   4.3s\n",
      "[CV 2/5; 4/9] START batch_size=256, epochs=10...................................\n",
      "[CV 2/5; 4/9] END ...batch_size=256, epochs=10;, score=-0.000 total time=   3.3s\n",
      "[CV 3/5; 4/9] START batch_size=256, epochs=10...................................\n",
      "[CV 3/5; 4/9] END ...batch_size=256, epochs=10;, score=-0.000 total time=   3.0s\n",
      "[CV 4/5; 4/9] START batch_size=256, epochs=10...................................\n",
      "[CV 4/5; 4/9] END ...batch_size=256, epochs=10;, score=-0.000 total time=   4.1s\n",
      "[CV 5/5; 4/9] START batch_size=256, epochs=10...................................\n",
      "[CV 5/5; 4/9] END ...batch_size=256, epochs=10;, score=-0.000 total time=   4.3s\n",
      "[CV 1/5; 5/9] START batch_size=256, epochs=50...................................\n",
      "[CV 1/5; 5/9] END ...batch_size=256, epochs=50;, score=-0.000 total time=  14.2s\n",
      "[CV 2/5; 5/9] START batch_size=256, epochs=50...................................\n",
      "[CV 2/5; 5/9] END ...batch_size=256, epochs=50;, score=-0.000 total time=  14.9s\n",
      "[CV 3/5; 5/9] START batch_size=256, epochs=50...................................\n",
      "[CV 3/5; 5/9] END ...batch_size=256, epochs=50;, score=-0.000 total time=  16.4s\n",
      "[CV 4/5; 5/9] START batch_size=256, epochs=50...................................\n",
      "[CV 4/5; 5/9] END ...batch_size=256, epochs=50;, score=-0.000 total time=  16.4s\n",
      "[CV 5/5; 5/9] START batch_size=256, epochs=50...................................\n",
      "[CV 5/5; 5/9] END ...batch_size=256, epochs=50;, score=-0.000 total time=  13.9s\n",
      "[CV 1/5; 6/9] START batch_size=256, epochs=100..................................\n",
      "[CV 1/5; 6/9] END ..batch_size=256, epochs=100;, score=-0.000 total time=  31.4s\n",
      "[CV 2/5; 6/9] START batch_size=256, epochs=100..................................\n",
      "[CV 2/5; 6/9] END ..batch_size=256, epochs=100;, score=-0.000 total time=  31.3s\n",
      "[CV 3/5; 6/9] START batch_size=256, epochs=100..................................\n",
      "[CV 3/5; 6/9] END ..batch_size=256, epochs=100;, score=-0.000 total time=  28.8s\n",
      "[CV 4/5; 6/9] START batch_size=256, epochs=100..................................\n",
      "[CV 4/5; 6/9] END ..batch_size=256, epochs=100;, score=-0.000 total time=  30.6s\n",
      "[CV 5/5; 6/9] START batch_size=256, epochs=100..................................\n",
      "[CV 5/5; 6/9] END ..batch_size=256, epochs=100;, score=-0.000 total time=  29.6s\n",
      "[CV 1/5; 7/9] START batch_size=512, epochs=10...................................\n",
      "[CV 1/5; 7/9] END ...batch_size=512, epochs=10;, score=-0.000 total time=   3.5s\n",
      "[CV 2/5; 7/9] START batch_size=512, epochs=10...................................\n",
      "[CV 2/5; 7/9] END ...batch_size=512, epochs=10;, score=-0.000 total time=   3.5s\n",
      "[CV 3/5; 7/9] START batch_size=512, epochs=10...................................\n",
      "[CV 3/5; 7/9] END ...batch_size=512, epochs=10;, score=-0.000 total time=   3.7s\n",
      "[CV 4/5; 7/9] START batch_size=512, epochs=10...................................\n",
      "[CV 4/5; 7/9] END ...batch_size=512, epochs=10;, score=-0.000 total time=   3.6s\n",
      "[CV 5/5; 7/9] START batch_size=512, epochs=10...................................\n",
      "[CV 5/5; 7/9] END ...batch_size=512, epochs=10;, score=-0.000 total time=   3.5s\n",
      "[CV 1/5; 8/9] START batch_size=512, epochs=50...................................\n",
      "[CV 1/5; 8/9] END ...batch_size=512, epochs=50;, score=-0.000 total time=  13.7s\n",
      "[CV 2/5; 8/9] START batch_size=512, epochs=50...................................\n",
      "[CV 2/5; 8/9] END ...batch_size=512, epochs=50;, score=-0.000 total time=  11.9s\n",
      "[CV 3/5; 8/9] START batch_size=512, epochs=50...................................\n",
      "[CV 3/5; 8/9] END ...batch_size=512, epochs=50;, score=-0.000 total time=  11.8s\n",
      "[CV 4/5; 8/9] START batch_size=512, epochs=50...................................\n",
      "[CV 4/5; 8/9] END ...batch_size=512, epochs=50;, score=-0.000 total time=  11.8s\n",
      "[CV 5/5; 8/9] START batch_size=512, epochs=50...................................\n",
      "[CV 5/5; 8/9] END ...batch_size=512, epochs=50;, score=-0.000 total time=  11.7s\n",
      "[CV 1/5; 9/9] START batch_size=512, epochs=100..................................\n",
      "[CV 1/5; 9/9] END ..batch_size=512, epochs=100;, score=-0.000 total time=  22.1s\n",
      "[CV 2/5; 9/9] START batch_size=512, epochs=100..................................\n",
      "[CV 2/5; 9/9] END ..batch_size=512, epochs=100;, score=-0.000 total time=  23.1s\n",
      "[CV 3/5; 9/9] START batch_size=512, epochs=100..................................\n",
      "[CV 3/5; 9/9] END ..batch_size=512, epochs=100;, score=-0.000 total time=  24.5s\n",
      "[CV 4/5; 9/9] START batch_size=512, epochs=100..................................\n",
      "[CV 4/5; 9/9] END ..batch_size=512, epochs=100;, score=-0.000 total time=  27.2s\n",
      "[CV 5/5; 9/9] START batch_size=512, epochs=100..................................\n",
      "[CV 5/5; 9/9] END ..batch_size=512, epochs=100;, score=-0.000 total time=  25.0s\n"
     ]
    }
   ],
   "source": [
    "model = KerasRegressor(build_fn = create_model,verbose = 0)\n",
    "# Define the grid search parameters\n",
    "batch_size = [128,256,512]\n",
    "epochs = [10,50,100]\n",
    "# Make a dictionary of the grid search parameters\n",
    "param_grid = dict(batch_size = batch_size,epochs = epochs)\n",
    "# Build and fit the GridSearchCV\n",
    "grid = GridSearchCV(estimator = model,param_grid = param_grid,cv=KFold(),verbose=10)\n",
    "grid_result = grid.fit(x_train,y_train)"
   ]
  },
  {
   "cell_type": "code",
   "execution_count": 27,
   "id": "8d9e2e42",
   "metadata": {},
   "outputs": [
    {
     "data": {
      "text/plain": [
       "{'batch_size': 512, 'epochs': 100}"
      ]
     },
     "execution_count": 27,
     "metadata": {},
     "output_type": "execute_result"
    }
   ],
   "source": [
    "result=grid_result.best_params_\n",
    "result"
   ]
  },
  {
   "cell_type": "code",
   "execution_count": 28,
   "id": "4eb08be4",
   "metadata": {},
   "outputs": [
    {
     "data": {
      "text/plain": [
       "100"
      ]
     },
     "execution_count": 28,
     "metadata": {},
     "output_type": "execute_result"
    }
   ],
   "source": [
    "epochs=result[\"epochs\"]\n",
    "batch_size  = result[\"batch_size\"]\n",
    "epochs"
   ]
  },
  {
   "cell_type": "code",
   "execution_count": 29,
   "id": "415a80cd",
   "metadata": {},
   "outputs": [],
   "source": [
    "# # Summarize the results\n",
    "# print('Best : {}, using {}'.format(grid_result.best_score_,grid_result.best_params_))\n",
    "# means = grid_result.cv_results_['mean_test_score']\n",
    "# stds = grid_result.cv_results_['std_test_score']\n",
    "# params = grid_result.cv_results_['params']\n",
    "# for mean, stdev, param in zip(means, stds, params):\n",
    "#   print('{},{} with: {}'.format(mean, stdev, param))"
   ]
  },
  {
   "cell_type": "code",
   "execution_count": 30,
   "id": "bc94ece7",
   "metadata": {},
   "outputs": [
    {
     "name": "stdout",
     "output_type": "stream",
     "text": [
      "Fitting 5 folds for each of 9 candidates, totalling 45 fits\n",
      "[CV 1/5; 1/9] START dropout_rate=0.0, learning_rate=0.001.......................\n",
      "[CV 1/5; 1/9] END dropout_rate=0.0, learning_rate=0.001;, score=-0.000 total time=  25.8s\n",
      "[CV 2/5; 1/9] START dropout_rate=0.0, learning_rate=0.001.......................\n",
      "[CV 2/5; 1/9] END dropout_rate=0.0, learning_rate=0.001;, score=-0.000 total time=  23.1s\n",
      "[CV 3/5; 1/9] START dropout_rate=0.0, learning_rate=0.001.......................\n",
      "[CV 3/5; 1/9] END dropout_rate=0.0, learning_rate=0.001;, score=-0.000 total time=  23.5s\n",
      "[CV 4/5; 1/9] START dropout_rate=0.0, learning_rate=0.001.......................\n",
      "[CV 4/5; 1/9] END dropout_rate=0.0, learning_rate=0.001;, score=-0.000 total time=  22.2s\n",
      "[CV 5/5; 1/9] START dropout_rate=0.0, learning_rate=0.001.......................\n",
      "[CV 5/5; 1/9] END dropout_rate=0.0, learning_rate=0.001;, score=-0.000 total time=  23.3s\n",
      "[CV 1/5; 2/9] START dropout_rate=0.0, learning_rate=0.01........................\n",
      "[CV 1/5; 2/9] END dropout_rate=0.0, learning_rate=0.01;, score=-0.000 total time=  24.1s\n",
      "[CV 2/5; 2/9] START dropout_rate=0.0, learning_rate=0.01........................\n",
      "[CV 2/5; 2/9] END dropout_rate=0.0, learning_rate=0.01;, score=-0.000 total time=  22.4s\n",
      "[CV 3/5; 2/9] START dropout_rate=0.0, learning_rate=0.01........................\n",
      "[CV 3/5; 2/9] END dropout_rate=0.0, learning_rate=0.01;, score=-0.000 total time=  22.6s\n",
      "[CV 4/5; 2/9] START dropout_rate=0.0, learning_rate=0.01........................\n",
      "[CV 4/5; 2/9] END dropout_rate=0.0, learning_rate=0.01;, score=-0.000 total time=  23.5s\n",
      "[CV 5/5; 2/9] START dropout_rate=0.0, learning_rate=0.01........................\n",
      "[CV 5/5; 2/9] END dropout_rate=0.0, learning_rate=0.01;, score=-0.000 total time=  24.0s\n",
      "[CV 1/5; 3/9] START dropout_rate=0.0, learning_rate=0.1.........................\n",
      "[CV 1/5; 3/9] END dropout_rate=0.0, learning_rate=0.1;, score=-0.000 total time=  26.8s\n",
      "[CV 2/5; 3/9] START dropout_rate=0.0, learning_rate=0.1.........................\n",
      "[CV 2/5; 3/9] END dropout_rate=0.0, learning_rate=0.1;, score=-0.000 total time=  25.7s\n",
      "[CV 3/5; 3/9] START dropout_rate=0.0, learning_rate=0.1.........................\n",
      "[CV 3/5; 3/9] END dropout_rate=0.0, learning_rate=0.1;, score=-0.000 total time=  25.9s\n",
      "[CV 4/5; 3/9] START dropout_rate=0.0, learning_rate=0.1.........................\n",
      "[CV 4/5; 3/9] END dropout_rate=0.0, learning_rate=0.1;, score=-0.001 total time=  27.0s\n",
      "[CV 5/5; 3/9] START dropout_rate=0.0, learning_rate=0.1.........................\n",
      "[CV 5/5; 3/9] END dropout_rate=0.0, learning_rate=0.1;, score=-0.000 total time=  22.4s\n",
      "[CV 1/5; 4/9] START dropout_rate=0.1, learning_rate=0.001.......................\n",
      "[CV 1/5; 4/9] END dropout_rate=0.1, learning_rate=0.001;, score=-0.000 total time=  37.1s\n",
      "[CV 2/5; 4/9] START dropout_rate=0.1, learning_rate=0.001.......................\n",
      "[CV 2/5; 4/9] END dropout_rate=0.1, learning_rate=0.001;, score=-0.000 total time=  37.7s\n",
      "[CV 3/5; 4/9] START dropout_rate=0.1, learning_rate=0.001.......................\n",
      "[CV 3/5; 4/9] END dropout_rate=0.1, learning_rate=0.001;, score=-0.001 total time=  38.4s\n",
      "[CV 4/5; 4/9] START dropout_rate=0.1, learning_rate=0.001.......................\n",
      "[CV 4/5; 4/9] END dropout_rate=0.1, learning_rate=0.001;, score=-0.001 total time=  38.5s\n",
      "[CV 5/5; 4/9] START dropout_rate=0.1, learning_rate=0.001.......................\n",
      "[CV 5/5; 4/9] END dropout_rate=0.1, learning_rate=0.001;, score=-0.000 total time=  40.0s\n",
      "[CV 1/5; 5/9] START dropout_rate=0.1, learning_rate=0.01........................\n",
      "[CV 1/5; 5/9] END dropout_rate=0.1, learning_rate=0.01;, score=-0.002 total time=  36.9s\n",
      "[CV 2/5; 5/9] START dropout_rate=0.1, learning_rate=0.01........................\n",
      "[CV 2/5; 5/9] END dropout_rate=0.1, learning_rate=0.01;, score=-0.001 total time=  39.1s\n",
      "[CV 3/5; 5/9] START dropout_rate=0.1, learning_rate=0.01........................\n",
      "[CV 3/5; 5/9] END dropout_rate=0.1, learning_rate=0.01;, score=-0.001 total time=  41.0s\n",
      "[CV 4/5; 5/9] START dropout_rate=0.1, learning_rate=0.01........................\n",
      "[CV 4/5; 5/9] END dropout_rate=0.1, learning_rate=0.01;, score=-0.002 total time=  39.2s\n",
      "[CV 5/5; 5/9] START dropout_rate=0.1, learning_rate=0.01........................\n",
      "[CV 5/5; 5/9] END dropout_rate=0.1, learning_rate=0.01;, score=-0.001 total time=  40.6s\n",
      "[CV 1/5; 6/9] START dropout_rate=0.1, learning_rate=0.1.........................\n",
      "[CV 1/5; 6/9] END dropout_rate=0.1, learning_rate=0.1;, score=-0.003 total time=  41.8s\n",
      "[CV 2/5; 6/9] START dropout_rate=0.1, learning_rate=0.1.........................\n",
      "[CV 2/5; 6/9] END dropout_rate=0.1, learning_rate=0.1;, score=-0.008 total time=  36.8s\n",
      "[CV 3/5; 6/9] START dropout_rate=0.1, learning_rate=0.1.........................\n",
      "[CV 3/5; 6/9] END dropout_rate=0.1, learning_rate=0.1;, score=-0.007 total time=  41.3s\n",
      "[CV 4/5; 6/9] START dropout_rate=0.1, learning_rate=0.1.........................\n",
      "[CV 4/5; 6/9] END dropout_rate=0.1, learning_rate=0.1;, score=-0.002 total time=  42.9s\n",
      "[CV 5/5; 6/9] START dropout_rate=0.1, learning_rate=0.1.........................\n",
      "[CV 5/5; 6/9] END dropout_rate=0.1, learning_rate=0.1;, score=-0.007 total time=  38.6s\n",
      "[CV 1/5; 7/9] START dropout_rate=0.2, learning_rate=0.001.......................\n",
      "[CV 1/5; 7/9] END dropout_rate=0.2, learning_rate=0.001;, score=-0.001 total time=  42.2s\n",
      "[CV 2/5; 7/9] START dropout_rate=0.2, learning_rate=0.001.......................\n",
      "[CV 2/5; 7/9] END dropout_rate=0.2, learning_rate=0.001;, score=-0.000 total time=  41.8s\n",
      "[CV 3/5; 7/9] START dropout_rate=0.2, learning_rate=0.001.......................\n",
      "[CV 3/5; 7/9] END dropout_rate=0.2, learning_rate=0.001;, score=-0.000 total time=  39.2s\n",
      "[CV 4/5; 7/9] START dropout_rate=0.2, learning_rate=0.001.......................\n",
      "[CV 4/5; 7/9] END dropout_rate=0.2, learning_rate=0.001;, score=-0.000 total time=  40.8s\n",
      "[CV 5/5; 7/9] START dropout_rate=0.2, learning_rate=0.001.......................\n",
      "[CV 5/5; 7/9] END dropout_rate=0.2, learning_rate=0.001;, score=-0.001 total time=  41.9s\n",
      "[CV 1/5; 8/9] START dropout_rate=0.2, learning_rate=0.01........................\n",
      "[CV 1/5; 8/9] END dropout_rate=0.2, learning_rate=0.01;, score=-0.009 total time=  37.5s\n",
      "[CV 2/5; 8/9] START dropout_rate=0.2, learning_rate=0.01........................\n",
      "[CV 2/5; 8/9] END dropout_rate=0.2, learning_rate=0.01;, score=-0.006 total time=  38.2s\n",
      "[CV 3/5; 8/9] START dropout_rate=0.2, learning_rate=0.01........................\n",
      "[CV 3/5; 8/9] END dropout_rate=0.2, learning_rate=0.01;, score=-0.008 total time=  41.6s\n",
      "[CV 4/5; 8/9] START dropout_rate=0.2, learning_rate=0.01........................\n",
      "[CV 4/5; 8/9] END dropout_rate=0.2, learning_rate=0.01;, score=-0.007 total time=  40.6s\n",
      "[CV 5/5; 8/9] START dropout_rate=0.2, learning_rate=0.01........................\n",
      "[CV 5/5; 8/9] END dropout_rate=0.2, learning_rate=0.01;, score=-0.007 total time=  42.5s\n",
      "[CV 1/5; 9/9] START dropout_rate=0.2, learning_rate=0.1.........................\n",
      "[CV 1/5; 9/9] END dropout_rate=0.2, learning_rate=0.1;, score=-0.025 total time=  36.4s\n",
      "[CV 2/5; 9/9] START dropout_rate=0.2, learning_rate=0.1.........................\n",
      "[CV 2/5; 9/9] END dropout_rate=0.2, learning_rate=0.1;, score=-0.014 total time=  40.6s\n",
      "[CV 3/5; 9/9] START dropout_rate=0.2, learning_rate=0.1.........................\n",
      "[CV 3/5; 9/9] END dropout_rate=0.2, learning_rate=0.1;, score=-0.017 total time=  42.1s\n",
      "[CV 4/5; 9/9] START dropout_rate=0.2, learning_rate=0.1.........................\n",
      "[CV 4/5; 9/9] END dropout_rate=0.2, learning_rate=0.1;, score=-0.014 total time=  37.2s\n",
      "[CV 5/5; 9/9] START dropout_rate=0.2, learning_rate=0.1.........................\n",
      "[CV 5/5; 9/9] END dropout_rate=0.2, learning_rate=0.1;, score=-0.014 total time=  38.9s\n"
     ]
    }
   ],
   "source": [
    "## learning Rate and drop out rate\n",
    "from keras.layers import Dropout\n",
    "\n",
    "# Defining the model\n",
    "\n",
    "def create_model(learning_rate,dropout_rate):\n",
    "    model = Sequential()\n",
    "    model.add(Dense(512,input_dim = 10,kernel_initializer = 'normal',activation = 'relu'))\n",
    "    model.add(Dropout(dropout_rate))\n",
    "    model.add(Dense(512,kernel_initializer = 'normal',activation = 'relu'))\n",
    "    model.add(Dropout(dropout_rate))\n",
    "    model.add(Dense(1))\n",
    "    \n",
    "    adam = Adam(lr = learning_rate)\n",
    "    model.compile(loss = 'mse',optimizer = adam,metrics = ['mae'])\n",
    "    return model\n",
    "\n",
    "# Create the model\n",
    "\n",
    "model = KerasRegressor(build_fn = create_model,verbose = 0,batch_size = batch_size,epochs = epochs)\n",
    "\n",
    "# Define the grid search parameters\n",
    "\n",
    "learning_rate = [0.001,0.01,0.1]\n",
    "dropout_rate = [0.0,0.1,0.2]\n",
    "\n",
    "# Make a dictionary of the grid search parameters\n",
    "\n",
    "param_grids = dict(learning_rate = learning_rate,dropout_rate = dropout_rate)\n",
    "\n",
    "# Build and fit the GridSearchCV\n",
    "\n",
    "grid = GridSearchCV(estimator = model,param_grid = param_grids,cv = KFold(),verbose = 10)\n",
    "grid_result = grid.fit(x_train,y_train)\n"
   ]
  },
  {
   "cell_type": "code",
   "execution_count": 31,
   "id": "f4dc384b",
   "metadata": {},
   "outputs": [
    {
     "name": "stdout",
     "output_type": "stream",
     "text": [
      "Best : -7.108449935913085e-05, using {'dropout_rate': 0.0, 'learning_rate': 0.001}\n",
      "-7.108449935913085e-05,1.224187006365372e-05 with: {'dropout_rate': 0.0, 'learning_rate': 0.001}\n",
      "-0.00013705833989661187,8.355957621858411e-05 with: {'dropout_rate': 0.0, 'learning_rate': 0.01}\n",
      "-0.0004224493633955717,0.000365462013621384 with: {'dropout_rate': 0.0, 'learning_rate': 0.1}\n",
      "-0.0004895376740023493,0.00021123557479971444 with: {'dropout_rate': 0.1, 'learning_rate': 0.001}\n",
      "-0.0015647514956071973,0.00045144120096815576 with: {'dropout_rate': 0.1, 'learning_rate': 0.01}\n",
      "-0.0053163189208135005,0.002760153010766501 with: {'dropout_rate': 0.1, 'learning_rate': 0.1}\n",
      "-0.0006926853384356946,0.00046502260264499044 with: {'dropout_rate': 0.2, 'learning_rate': 0.001}\n",
      "-0.0074734406545758246,0.001302405514077139 with: {'dropout_rate': 0.2, 'learning_rate': 0.01}\n",
      "-0.01674798671156168,0.004315879119569278 with: {'dropout_rate': 0.2, 'learning_rate': 0.1}\n"
     ]
    }
   ],
   "source": [
    "# Summarize the results\n",
    "print('Best : {}, using {}'.format(grid_result.best_score_,grid_result.best_params_))\n",
    "means = grid_result.cv_results_['mean_test_score']\n",
    "stds = grid_result.cv_results_['std_test_score']\n",
    "params = grid_result.cv_results_['params']\n",
    "for mean, stdev, param in zip(means, stds, params):\n",
    "  print('{},{} with: {}'.format(mean, stdev, param))"
   ]
  },
  {
   "cell_type": "code",
   "execution_count": 32,
   "id": "7424ad94",
   "metadata": {},
   "outputs": [],
   "source": [
    "learning_dropout=grid_result.best_params_\n",
    "learning= learning_dropout[\"learning_rate\"]\n",
    "dropout= learning_dropout[\"dropout_rate\"]\n"
   ]
  },
  {
   "cell_type": "markdown",
   "id": "5a027296",
   "metadata": {},
   "source": [
    "## activation function and kernal initializer"
   ]
  },
  {
   "cell_type": "code",
   "execution_count": 33,
   "id": "b5413e02",
   "metadata": {},
   "outputs": [
    {
     "name": "stdout",
     "output_type": "stream",
     "text": [
      "Fitting 5 folds for each of 4 candidates, totalling 20 fits\n",
      "[CV 1/5; 1/4] START activation_function=relu, init=normal.......................\n",
      "[CV 1/5; 1/4] END activation_function=relu, init=normal;, score=-0.000 total time=  26.0s\n",
      "[CV 2/5; 1/4] START activation_function=relu, init=normal.......................\n",
      "[CV 2/5; 1/4] END activation_function=relu, init=normal;, score=-0.000 total time=  25.6s\n",
      "[CV 3/5; 1/4] START activation_function=relu, init=normal.......................\n",
      "[CV 3/5; 1/4] END activation_function=relu, init=normal;, score=-0.000 total time=  26.6s\n",
      "[CV 4/5; 1/4] START activation_function=relu, init=normal.......................\n",
      "[CV 4/5; 1/4] END activation_function=relu, init=normal;, score=-0.000 total time=  26.0s\n",
      "[CV 5/5; 1/4] START activation_function=relu, init=normal.......................\n",
      "[CV 5/5; 1/4] END activation_function=relu, init=normal;, score=-0.000 total time=  23.5s\n",
      "[CV 1/5; 2/4] START activation_function=relu, init=uniform......................\n",
      "[CV 1/5; 2/4] END activation_function=relu, init=uniform;, score=-0.000 total time=  25.5s\n",
      "[CV 2/5; 2/4] START activation_function=relu, init=uniform......................\n",
      "[CV 2/5; 2/4] END activation_function=relu, init=uniform;, score=-0.000 total time=  25.2s\n",
      "[CV 3/5; 2/4] START activation_function=relu, init=uniform......................\n",
      "[CV 3/5; 2/4] END activation_function=relu, init=uniform;, score=-0.000 total time=  26.4s\n",
      "[CV 4/5; 2/4] START activation_function=relu, init=uniform......................\n",
      "[CV 4/5; 2/4] END activation_function=relu, init=uniform;, score=-0.000 total time=  26.6s\n",
      "[CV 5/5; 2/4] START activation_function=relu, init=uniform......................\n",
      "[CV 5/5; 2/4] END activation_function=relu, init=uniform;, score=-0.000 total time=  22.6s\n",
      "[CV 1/5; 3/4] START activation_function=softmax, init=normal....................\n",
      "[CV 1/5; 3/4] END activation_function=softmax, init=normal;, score=-0.002 total time=  34.0s\n",
      "[CV 2/5; 3/4] START activation_function=softmax, init=normal....................\n",
      "[CV 2/5; 3/4] END activation_function=softmax, init=normal;, score=-0.002 total time=  32.8s\n",
      "[CV 3/5; 3/4] START activation_function=softmax, init=normal....................\n",
      "[CV 3/5; 3/4] END activation_function=softmax, init=normal;, score=-0.002 total time=  34.1s\n",
      "[CV 4/5; 3/4] START activation_function=softmax, init=normal....................\n",
      "[CV 4/5; 3/4] END activation_function=softmax, init=normal;, score=-0.002 total time=  29.7s\n",
      "[CV 5/5; 3/4] START activation_function=softmax, init=normal....................\n",
      "[CV 5/5; 3/4] END activation_function=softmax, init=normal;, score=-0.002 total time=  28.3s\n",
      "[CV 1/5; 4/4] START activation_function=softmax, init=uniform...................\n",
      "[CV 1/5; 4/4] END activation_function=softmax, init=uniform;, score=-0.002 total time=  31.9s\n",
      "[CV 2/5; 4/4] START activation_function=softmax, init=uniform...................\n",
      "[CV 2/5; 4/4] END activation_function=softmax, init=uniform;, score=-0.002 total time=  34.2s\n",
      "[CV 3/5; 4/4] START activation_function=softmax, init=uniform...................\n",
      "[CV 3/5; 4/4] END activation_function=softmax, init=uniform;, score=-0.002 total time=  31.1s\n",
      "[CV 4/5; 4/4] START activation_function=softmax, init=uniform...................\n",
      "[CV 4/5; 4/4] END activation_function=softmax, init=uniform;, score=-0.002 total time=  35.8s\n",
      "[CV 5/5; 4/4] START activation_function=softmax, init=uniform...................\n",
      "[CV 5/5; 4/4] END activation_function=softmax, init=uniform;, score=-0.002 total time=  33.1s\n"
     ]
    }
   ],
   "source": [
    "def create_model(activation_function,init):\n",
    "    model = Sequential()\n",
    "    model.add(Dense(512,input_dim = 10,kernel_initializer = init,activation = activation_function))\n",
    "    model.add(Dense(512,input_dim = 10,kernel_initializer = init,activation = activation_function))\n",
    "    model.add(Dense(1))\n",
    "    \n",
    "    adam = Adam(lr = learning) \n",
    "    model.compile(loss = 'mse',optimizer = adam,metrics = ['mae'])\n",
    "    return model\n",
    "\n",
    "# Create the model\n",
    "\n",
    "model = KerasRegressor(build_fn = create_model,verbose = 0,batch_size = batch_size,epochs = epochs)\n",
    "\n",
    "# Define the grid search parameters\n",
    "activation_function = ['relu','softmax']\n",
    "init = ['normal','uniform']\n",
    "\n",
    "# Make a dictionary of the grid search parameters\n",
    "param_grids = dict(activation_function = activation_function,init = init)\n",
    "\n",
    "# Build and fit the GridSearchCV\n",
    "\n",
    "grid = GridSearchCV(estimator = model,param_grid = param_grids,cv = KFold(),verbose = 10)\n",
    "grid_result = grid.fit(x_train,y_train)"
   ]
  },
  {
   "cell_type": "code",
   "execution_count": 34,
   "id": "33846ed1",
   "metadata": {},
   "outputs": [],
   "source": [
    "act_init= grid_result.best_params_\n",
    "act = act_init[\"activation_function\"]\n",
    "kernal = act_init[\"init\"]"
   ]
  },
  {
   "cell_type": "code",
   "execution_count": 35,
   "id": "f6cf7ded",
   "metadata": {
    "scrolled": true
   },
   "outputs": [
    {
     "name": "stdout",
     "output_type": "stream",
     "text": [
      "Best : -6.927666981937364e-05, using {'activation_function': 'relu', 'init': 'normal'}\n",
      "-6.927666981937364e-05,1.1074728303997435e-05 with: {'activation_function': 'relu', 'init': 'normal'}\n",
      "-7.727886986685917e-05,1.1581654663667215e-05 with: {'activation_function': 'relu', 'init': 'uniform'}\n",
      "-0.001965002832002938,8.20743414453544e-05 with: {'activation_function': 'softmax', 'init': 'normal'}\n",
      "-0.0019751162733882667,9.225486865740435e-05 with: {'activation_function': 'softmax', 'init': 'uniform'}\n"
     ]
    }
   ],
   "source": [
    "# Summarize the results\n",
    "print('Best : {}, using {}'.format(grid_result.best_score_,grid_result.best_params_))\n",
    "means = grid_result.cv_results_['mean_test_score']\n",
    "stds = grid_result.cv_results_['std_test_score']\n",
    "params = grid_result.cv_results_['params']\n",
    "for mean, stdev, param in zip(means, stds, params):\n",
    "  print('{},{} with: {}'.format(mean, stdev, param))"
   ]
  },
  {
   "cell_type": "markdown",
   "id": "b36eef27",
   "metadata": {},
   "source": [
    "## no of neuron in activation layer"
   ]
  },
  {
   "cell_type": "code",
   "execution_count": 36,
   "id": "f31669eb",
   "metadata": {},
   "outputs": [
    {
     "name": "stdout",
     "output_type": "stream",
     "text": [
      "Fitting 5 folds for each of 9 candidates, totalling 45 fits\n",
      "[CV 1/5; 1/9] START neuron1=32, neuron2=32......................................\n",
      "[CV 1/5; 1/9] END ......neuron1=32, neuron2=32;, score=-0.000 total time=   6.0s\n",
      "[CV 2/5; 1/9] START neuron1=32, neuron2=32......................................\n",
      "[CV 2/5; 1/9] END ......neuron1=32, neuron2=32;, score=-0.000 total time=   6.2s\n",
      "[CV 3/5; 1/9] START neuron1=32, neuron2=32......................................\n",
      "[CV 3/5; 1/9] END ......neuron1=32, neuron2=32;, score=-0.000 total time=   3.9s\n",
      "[CV 4/5; 1/9] START neuron1=32, neuron2=32......................................\n",
      "[CV 4/5; 1/9] END ......neuron1=32, neuron2=32;, score=-0.000 total time=   4.5s\n",
      "[CV 5/5; 1/9] START neuron1=32, neuron2=32......................................\n",
      "[CV 5/5; 1/9] END ......neuron1=32, neuron2=32;, score=-0.000 total time=   4.1s\n",
      "[CV 1/5; 2/9] START neuron1=32, neuron2=64......................................\n",
      "[CV 1/5; 2/9] END ......neuron1=32, neuron2=64;, score=-0.000 total time=   4.6s\n",
      "[CV 2/5; 2/9] START neuron1=32, neuron2=64......................................\n",
      "[CV 2/5; 2/9] END ......neuron1=32, neuron2=64;, score=-0.000 total time=   5.3s\n",
      "[CV 3/5; 2/9] START neuron1=32, neuron2=64......................................\n",
      "[CV 3/5; 2/9] END ......neuron1=32, neuron2=64;, score=-0.000 total time=   5.3s\n",
      "[CV 4/5; 2/9] START neuron1=32, neuron2=64......................................\n",
      "[CV 4/5; 2/9] END ......neuron1=32, neuron2=64;, score=-0.000 total time=   3.9s\n",
      "[CV 5/5; 2/9] START neuron1=32, neuron2=64......................................\n",
      "[CV 5/5; 2/9] END ......neuron1=32, neuron2=64;, score=-0.000 total time=   4.9s\n",
      "[CV 1/5; 3/9] START neuron1=32, neuron2=512.....................................\n",
      "[CV 1/5; 3/9] END .....neuron1=32, neuron2=512;, score=-0.000 total time=   8.9s\n",
      "[CV 2/5; 3/9] START neuron1=32, neuron2=512.....................................\n",
      "[CV 2/5; 3/9] END .....neuron1=32, neuron2=512;, score=-0.000 total time=   9.0s\n",
      "[CV 3/5; 3/9] START neuron1=32, neuron2=512.....................................\n",
      "[CV 3/5; 3/9] END .....neuron1=32, neuron2=512;, score=-0.000 total time=   9.0s\n",
      "[CV 4/5; 3/9] START neuron1=32, neuron2=512.....................................\n",
      "[CV 4/5; 3/9] END .....neuron1=32, neuron2=512;, score=-0.000 total time=   8.4s\n",
      "[CV 5/5; 3/9] START neuron1=32, neuron2=512.....................................\n",
      "[CV 5/5; 3/9] END .....neuron1=32, neuron2=512;, score=-0.000 total time=   9.8s\n",
      "[CV 1/5; 4/9] START neuron1=64, neuron2=32......................................\n",
      "[CV 1/5; 4/9] END ......neuron1=64, neuron2=32;, score=-0.000 total time=   4.9s\n",
      "[CV 2/5; 4/9] START neuron1=64, neuron2=32......................................\n",
      "[CV 2/5; 4/9] END ......neuron1=64, neuron2=32;, score=-0.000 total time=   3.6s\n",
      "[CV 3/5; 4/9] START neuron1=64, neuron2=32......................................\n",
      "[CV 3/5; 4/9] END ......neuron1=64, neuron2=32;, score=-0.000 total time=   5.0s\n",
      "[CV 4/5; 4/9] START neuron1=64, neuron2=32......................................\n",
      "[CV 4/5; 4/9] END ......neuron1=64, neuron2=32;, score=-0.000 total time=   5.1s\n",
      "[CV 5/5; 4/9] START neuron1=64, neuron2=32......................................\n",
      "[CV 5/5; 4/9] END ......neuron1=64, neuron2=32;, score=-0.000 total time=   6.3s\n",
      "[CV 1/5; 5/9] START neuron1=64, neuron2=64......................................\n",
      "[CV 1/5; 5/9] END ......neuron1=64, neuron2=64;, score=-0.000 total time=   5.7s\n",
      "[CV 2/5; 5/9] START neuron1=64, neuron2=64......................................\n",
      "[CV 2/5; 5/9] END ......neuron1=64, neuron2=64;, score=-0.000 total time=   7.2s\n",
      "[CV 3/5; 5/9] START neuron1=64, neuron2=64......................................\n",
      "[CV 3/5; 5/9] END ......neuron1=64, neuron2=64;, score=-0.000 total time=   7.0s\n",
      "[CV 4/5; 5/9] START neuron1=64, neuron2=64......................................\n",
      "[CV 4/5; 5/9] END ......neuron1=64, neuron2=64;, score=-0.000 total time=   3.9s\n",
      "[CV 5/5; 5/9] START neuron1=64, neuron2=64......................................\n",
      "[CV 5/5; 5/9] END ......neuron1=64, neuron2=64;, score=-0.000 total time=   6.5s\n",
      "[CV 1/5; 6/9] START neuron1=64, neuron2=512.....................................\n",
      "[CV 1/5; 6/9] END .....neuron1=64, neuron2=512;, score=-0.000 total time=   9.9s\n",
      "[CV 2/5; 6/9] START neuron1=64, neuron2=512.....................................\n",
      "[CV 2/5; 6/9] END .....neuron1=64, neuron2=512;, score=-0.000 total time=  12.2s\n",
      "[CV 3/5; 6/9] START neuron1=64, neuron2=512.....................................\n",
      "[CV 3/5; 6/9] END .....neuron1=64, neuron2=512;, score=-0.000 total time=  11.9s\n",
      "[CV 4/5; 6/9] START neuron1=64, neuron2=512.....................................\n",
      "[CV 4/5; 6/9] END .....neuron1=64, neuron2=512;, score=-0.000 total time=  11.8s\n",
      "[CV 5/5; 6/9] START neuron1=64, neuron2=512.....................................\n",
      "[CV 5/5; 6/9] END .....neuron1=64, neuron2=512;, score=-0.000 total time=   9.6s\n",
      "[CV 1/5; 7/9] START neuron1=512, neuron2=32.....................................\n",
      "[CV 1/5; 7/9] END .....neuron1=512, neuron2=32;, score=-0.000 total time=   7.2s\n",
      "[CV 2/5; 7/9] START neuron1=512, neuron2=32.....................................\n",
      "[CV 2/5; 7/9] END .....neuron1=512, neuron2=32;, score=-0.000 total time=   8.3s\n",
      "[CV 3/5; 7/9] START neuron1=512, neuron2=32.....................................\n",
      "[CV 3/5; 7/9] END .....neuron1=512, neuron2=32;, score=-0.000 total time=   8.3s\n",
      "[CV 4/5; 7/9] START neuron1=512, neuron2=32.....................................\n",
      "[CV 4/5; 7/9] END .....neuron1=512, neuron2=32;, score=-0.000 total time=  10.8s\n",
      "[CV 5/5; 7/9] START neuron1=512, neuron2=32.....................................\n",
      "[CV 5/5; 7/9] END .....neuron1=512, neuron2=32;, score=-0.000 total time=  10.9s\n",
      "[CV 1/5; 8/9] START neuron1=512, neuron2=64.....................................\n",
      "[CV 1/5; 8/9] END .....neuron1=512, neuron2=64;, score=-0.000 total time=  10.9s\n",
      "[CV 2/5; 8/9] START neuron1=512, neuron2=64.....................................\n",
      "[CV 2/5; 8/9] END .....neuron1=512, neuron2=64;, score=-0.000 total time=   9.3s\n",
      "[CV 3/5; 8/9] START neuron1=512, neuron2=64.....................................\n",
      "[CV 3/5; 8/9] END .....neuron1=512, neuron2=64;, score=-0.000 total time=   9.5s\n",
      "[CV 4/5; 8/9] START neuron1=512, neuron2=64.....................................\n",
      "[CV 4/5; 8/9] END .....neuron1=512, neuron2=64;, score=-0.000 total time=  10.0s\n",
      "[CV 5/5; 8/9] START neuron1=512, neuron2=64.....................................\n",
      "[CV 5/5; 8/9] END .....neuron1=512, neuron2=64;, score=-0.000 total time=  13.1s\n",
      "[CV 1/5; 9/9] START neuron1=512, neuron2=512....................................\n",
      "[CV 1/5; 9/9] END ....neuron1=512, neuron2=512;, score=-0.000 total time=  26.0s\n",
      "[CV 2/5; 9/9] START neuron1=512, neuron2=512....................................\n",
      "[CV 2/5; 9/9] END ....neuron1=512, neuron2=512;, score=-0.000 total time=  26.4s\n",
      "[CV 3/5; 9/9] START neuron1=512, neuron2=512....................................\n",
      "[CV 3/5; 9/9] END ....neuron1=512, neuron2=512;, score=-0.000 total time=  27.0s\n",
      "[CV 4/5; 9/9] START neuron1=512, neuron2=512....................................\n",
      "[CV 4/5; 9/9] END ....neuron1=512, neuron2=512;, score=-0.000 total time=  22.7s\n",
      "[CV 5/5; 9/9] START neuron1=512, neuron2=512....................................\n",
      "[CV 5/5; 9/9] END ....neuron1=512, neuron2=512;, score=-0.000 total time=  22.9s\n"
     ]
    }
   ],
   "source": [
    "## no of neuron in activation layer\n",
    "def create_model(neuron1,neuron2,kernal,act):\n",
    "    model = Sequential()\n",
    "    model.add(Dense(neuron1,input_dim = 10,kernel_initializer = kernal,activation = act))\n",
    "    model.add(Dense(neuron2,input_dim = 10,kernel_initializer = kernal,activation = act))\n",
    "    model.add(Dense(1))\n",
    "    \n",
    "    adam = Adam(lr = learning)\n",
    "    model.compile(loss = 'mse',optimizer = adam,metrics = ['mae'])\n",
    "    return model\n",
    "\n",
    "# Create the model\n",
    "\n",
    "model = KerasRegressor(build_fn = create_model,verbose = 0,batch_size = batch_size,epochs = epochs,\n",
    "                      kernel_initializer = kernal,activation = act)\n",
    "\n",
    "# Define the grid search parameters\n",
    "\n",
    "neuron1 = [32,64,512]\n",
    "neuron2 = [32,64,512]\n",
    "\n",
    "# Make a dictionary of the grid search parameters\n",
    "\n",
    "param_grids = dict(neuron1 = neuron1,neuron2 = neuron2)\n",
    "\n",
    "# Build and fit the GridSearchCV\n",
    "\n",
    "grid = GridSearchCV(estimator = model,param_grid = param_grids,cv = KFold(),verbose = 10)\n",
    "grid_result = grid.fit(x_train,y_train)\n"
   ]
  },
  {
   "cell_type": "code",
   "execution_count": 40,
   "id": "a3bc78a2",
   "metadata": {},
   "outputs": [],
   "source": [
    "neuron=grid_result.best_params_\n",
    "neuron1 = neuron[\"neuron1\"]\n",
    "neuron2 = neuron[\"neuron2\"]"
   ]
  },
  {
   "cell_type": "code",
   "execution_count": 41,
   "id": "1e8cadb5",
   "metadata": {},
   "outputs": [
    {
     "name": "stdout",
     "output_type": "stream",
     "text": [
      "Best : -6.166208258946426e-05, using {'neuron1': 512, 'neuron2': 512}\n",
      "-0.00010981594678014517,6.570492925607053e-06 with: {'neuron1': 32, 'neuron2': 32}\n",
      "-9.99212876195088e-05,6.186767198806051e-06 with: {'neuron1': 32, 'neuron2': 64}\n",
      "-8.64399567944929e-05,6.282649893398734e-06 with: {'neuron1': 32, 'neuron2': 512}\n",
      "-9.989213576773181e-05,9.39083943047525e-06 with: {'neuron1': 64, 'neuron2': 32}\n",
      "-9.699134097900242e-05,3.720282610702687e-06 with: {'neuron1': 64, 'neuron2': 64}\n",
      "-8.2898058462888e-05,1.131036209481932e-05 with: {'neuron1': 64, 'neuron2': 512}\n",
      "-8.173002279363573e-05,1.2279946743221406e-05 with: {'neuron1': 512, 'neuron2': 32}\n",
      "-7.29754101485014e-05,8.073999527498552e-06 with: {'neuron1': 512, 'neuron2': 64}\n",
      "-6.166208258946426e-05,3.3264169923675423e-06 with: {'neuron1': 512, 'neuron2': 512}\n"
     ]
    }
   ],
   "source": [
    "print('Best : {}, using {}'.format(grid_result.best_score_,grid_result.best_params_))\n",
    "means = grid_result.cv_results_['mean_test_score']\n",
    "stds = grid_result.cv_results_['std_test_score']\n",
    "params = grid_result.cv_results_['params']\n",
    "for mean, stdev, param in zip(means, stds, params):\n",
    "  print('{},{} with: {}'.format(mean, stdev, param))"
   ]
  },
  {
   "cell_type": "code",
   "execution_count": 47,
   "id": "46b5ee20",
   "metadata": {},
   "outputs": [
    {
     "name": "stdout",
     "output_type": "stream",
     "text": [
      "Epoch 1/100\n",
      "21/21 [==============================] - 1s 13ms/step - loss: 0.0469 - mae: 0.1508\n",
      "Epoch 2/100\n",
      "21/21 [==============================] - 0s 13ms/step - loss: 0.0017 - mae: 0.0323\n",
      "Epoch 3/100\n",
      "21/21 [==============================] - 0s 12ms/step - loss: 3.4876e-04 - mae: 0.0141\n",
      "Epoch 4/100\n",
      "21/21 [==============================] - 0s 16ms/step - loss: 1.7961e-04 - mae: 0.0098\n",
      "Epoch 5/100\n",
      "21/21 [==============================] - 0s 12ms/step - loss: 1.3561e-04 - mae: 0.0086\n",
      "Epoch 6/100\n",
      "21/21 [==============================] - 0s 13ms/step - loss: 1.2254e-04 - mae: 0.0082\n",
      "Epoch 7/100\n",
      "21/21 [==============================] - 0s 12ms/step - loss: 1.0924e-04 - mae: 0.0077\n",
      "Epoch 8/100\n",
      "21/21 [==============================] - 0s 10ms/step - loss: 1.0353e-04 - mae: 0.0076\n",
      "Epoch 9/100\n",
      "21/21 [==============================] - 0s 11ms/step - loss: 9.8542e-05 - mae: 0.0074\n",
      "Epoch 10/100\n",
      "21/21 [==============================] - 0s 11ms/step - loss: 9.5280e-05 - mae: 0.0073\n",
      "Epoch 11/100\n",
      "21/21 [==============================] - 0s 12ms/step - loss: 9.1842e-05 - mae: 0.0071\n",
      "Epoch 12/100\n",
      "21/21 [==============================] - 0s 11ms/step - loss: 8.9566e-05 - mae: 0.0070\n",
      "Epoch 13/100\n",
      "21/21 [==============================] - 0s 13ms/step - loss: 8.6405e-05 - mae: 0.0069\n",
      "Epoch 14/100\n",
      "21/21 [==============================] - 0s 19ms/step - loss: 8.6560e-05 - mae: 0.0069\n",
      "Epoch 15/100\n",
      "21/21 [==============================] - 0s 19ms/step - loss: 8.2764e-05 - mae: 0.0068\n",
      "Epoch 16/100\n",
      "21/21 [==============================] - 0s 17ms/step - loss: 8.4156e-05 - mae: 0.0068\n",
      "Epoch 17/100\n",
      "21/21 [==============================] - 0s 22ms/step - loss: 8.5024e-05 - mae: 0.0068\n",
      "Epoch 18/100\n",
      "21/21 [==============================] - 0s 18ms/step - loss: 8.1050e-05 - mae: 0.0067\n",
      "Epoch 19/100\n",
      "21/21 [==============================] - 0s 18ms/step - loss: 7.9567e-05 - mae: 0.0066\n",
      "Epoch 20/100\n",
      "21/21 [==============================] - 0s 13ms/step - loss: 8.0088e-05 - mae: 0.0066\n",
      "Epoch 21/100\n",
      "21/21 [==============================] - 0s 13ms/step - loss: 7.8296e-05 - mae: 0.0065\n",
      "Epoch 22/100\n",
      "21/21 [==============================] - 0s 10ms/step - loss: 7.6055e-05 - mae: 0.0064\n",
      "Epoch 23/100\n",
      "21/21 [==============================] - 0s 12ms/step - loss: 7.5261e-05 - mae: 0.0064\n",
      "Epoch 24/100\n",
      "21/21 [==============================] - 0s 10ms/step - loss: 7.5747e-05 - mae: 0.0064\n",
      "Epoch 25/100\n",
      "21/21 [==============================] - 0s 12ms/step - loss: 7.3850e-05 - mae: 0.0063\n",
      "Epoch 26/100\n",
      "21/21 [==============================] - 0s 11ms/step - loss: 7.2977e-05 - mae: 0.0063\n",
      "Epoch 27/100\n",
      "21/21 [==============================] - 0s 12ms/step - loss: 7.7684e-05 - mae: 0.0065\n",
      "Epoch 28/100\n",
      "21/21 [==============================] - 0s 12ms/step - loss: 7.8141e-05 - mae: 0.0066\n",
      "Epoch 29/100\n",
      "21/21 [==============================] - 0s 11ms/step - loss: 7.2331e-05 - mae: 0.0062\n",
      "Epoch 30/100\n",
      "21/21 [==============================] - 0s 12ms/step - loss: 7.2111e-05 - mae: 0.0062\n",
      "Epoch 31/100\n",
      "21/21 [==============================] - 0s 12ms/step - loss: 7.4224e-05 - mae: 0.0063\n",
      "Epoch 32/100\n",
      "21/21 [==============================] - 0s 11ms/step - loss: 7.4885e-05 - mae: 0.0064\n",
      "Epoch 33/100\n",
      "21/21 [==============================] - 0s 17ms/step - loss: 6.9909e-05 - mae: 0.0061\n",
      "Epoch 34/100\n",
      "21/21 [==============================] - 0s 18ms/step - loss: 7.4045e-05 - mae: 0.0063\n",
      "Epoch 35/100\n",
      "21/21 [==============================] - 0s 19ms/step - loss: 7.3396e-05 - mae: 0.0063\n",
      "Epoch 36/100\n",
      "21/21 [==============================] - 0s 18ms/step - loss: 7.0755e-05 - mae: 0.0062\n",
      "Epoch 37/100\n",
      "21/21 [==============================] - 0s 23ms/step - loss: 7.0517e-05 - mae: 0.0062\n",
      "Epoch 38/100\n",
      "21/21 [==============================] - 0s 18ms/step - loss: 6.9608e-05 - mae: 0.0061\n",
      "Epoch 39/100\n",
      "21/21 [==============================] - 0s 18ms/step - loss: 6.6510e-05 - mae: 0.0059\n",
      "Epoch 40/100\n",
      "21/21 [==============================] - 0s 19ms/step - loss: 6.7002e-05 - mae: 0.0060\n",
      "Epoch 41/100\n",
      "21/21 [==============================] - 0s 18ms/step - loss: 6.7691e-05 - mae: 0.0060\n",
      "Epoch 42/100\n",
      "21/21 [==============================] - 0s 11ms/step - loss: 6.9270e-05 - mae: 0.0061\n",
      "Epoch 43/100\n",
      "21/21 [==============================] - 0s 11ms/step - loss: 6.6521e-05 - mae: 0.0059\n",
      "Epoch 44/100\n",
      "21/21 [==============================] - 0s 10ms/step - loss: 6.6312e-05 - mae: 0.0059\n",
      "Epoch 45/100\n",
      "21/21 [==============================] - 0s 10ms/step - loss: 6.7767e-05 - mae: 0.0060\n",
      "Epoch 46/100\n",
      "21/21 [==============================] - 0s 13ms/step - loss: 6.8563e-05 - mae: 0.0061\n",
      "Epoch 47/100\n",
      "21/21 [==============================] - 0s 14ms/step - loss: 6.6146e-05 - mae: 0.0059\n",
      "Epoch 48/100\n",
      "21/21 [==============================] - 0s 9ms/step - loss: 6.3117e-05 - mae: 0.0057\n",
      "Epoch 49/100\n",
      "21/21 [==============================] - 0s 9ms/step - loss: 6.1380e-05 - mae: 0.0056\n",
      "Epoch 50/100\n",
      "21/21 [==============================] - 0s 9ms/step - loss: 6.2853e-05 - mae: 0.0058\n",
      "Epoch 51/100\n",
      "21/21 [==============================] - 0s 11ms/step - loss: 6.2001e-05 - mae: 0.0057\n",
      "Epoch 52/100\n",
      "21/21 [==============================] - 0s 18ms/step - loss: 6.3170e-05 - mae: 0.0057\n",
      "Epoch 53/100\n",
      "21/21 [==============================] - 0s 18ms/step - loss: 6.0967e-05 - mae: 0.0056\n",
      "Epoch 54/100\n",
      "21/21 [==============================] - 0s 18ms/step - loss: 6.0411e-05 - mae: 0.0056\n",
      "Epoch 55/100\n",
      "21/21 [==============================] - 0s 19ms/step - loss: 7.0508e-05 - mae: 0.0062\n",
      "Epoch 56/100\n",
      "21/21 [==============================] - 0s 19ms/step - loss: 6.8303e-05 - mae: 0.0061\n",
      "Epoch 57/100\n",
      "21/21 [==============================] - 0s 19ms/step - loss: 5.9969e-05 - mae: 0.0056\n",
      "Epoch 58/100\n",
      "21/21 [==============================] - 0s 20ms/step - loss: 6.2097e-05 - mae: 0.0057\n",
      "Epoch 59/100\n",
      "21/21 [==============================] - 0s 18ms/step - loss: 5.8749e-05 - mae: 0.0055\n",
      "Epoch 60/100\n",
      "21/21 [==============================] - 0s 12ms/step - loss: 5.9339e-05 - mae: 0.0055\n",
      "Epoch 61/100\n",
      "21/21 [==============================] - 0s 9ms/step - loss: 6.0091e-05 - mae: 0.0056\n",
      "Epoch 62/100\n",
      "21/21 [==============================] - 0s 9ms/step - loss: 5.9701e-05 - mae: 0.0056\n",
      "Epoch 63/100\n",
      "21/21 [==============================] - 0s 11ms/step - loss: 6.6643e-05 - mae: 0.0060\n",
      "Epoch 64/100\n",
      "21/21 [==============================] - 0s 12ms/step - loss: 6.5588e-05 - mae: 0.0059\n",
      "Epoch 65/100\n",
      "21/21 [==============================] - 0s 11ms/step - loss: 6.0846e-05 - mae: 0.0056\n",
      "Epoch 66/100\n",
      "21/21 [==============================] - 0s 10ms/step - loss: 6.7353e-05 - mae: 0.0060\n",
      "Epoch 67/100\n",
      "21/21 [==============================] - 0s 11ms/step - loss: 5.9649e-05 - mae: 0.0056\n",
      "Epoch 68/100\n",
      "21/21 [==============================] - 0s 14ms/step - loss: 5.8963e-05 - mae: 0.0055\n",
      "Epoch 69/100\n",
      "21/21 [==============================] - 0s 13ms/step - loss: 5.9218e-05 - mae: 0.0055\n",
      "Epoch 70/100\n",
      "21/21 [==============================] - 0s 19ms/step - loss: 5.9716e-05 - mae: 0.0056\n",
      "Epoch 71/100\n",
      "21/21 [==============================] - 0s 21ms/step - loss: 6.0121e-05 - mae: 0.0056\n",
      "Epoch 72/100\n",
      "21/21 [==============================] - 0s 21ms/step - loss: 6.0731e-05 - mae: 0.0057\n",
      "Epoch 73/100\n",
      "21/21 [==============================] - 0s 20ms/step - loss: 7.3021e-05 - mae: 0.0063\n",
      "Epoch 74/100\n",
      "21/21 [==============================] - 0s 20ms/step - loss: 5.9849e-05 - mae: 0.0056\n",
      "Epoch 75/100\n",
      "21/21 [==============================] - 0s 20ms/step - loss: 7.3643e-05 - mae: 0.0063\n",
      "Epoch 76/100\n",
      "21/21 [==============================] - 0s 19ms/step - loss: 6.4550e-05 - mae: 0.0058\n",
      "Epoch 77/100\n",
      "21/21 [==============================] - 0s 18ms/step - loss: 5.7738e-05 - mae: 0.0055\n",
      "Epoch 78/100\n",
      "21/21 [==============================] - 0s 10ms/step - loss: 5.9187e-05 - mae: 0.0055\n",
      "Epoch 79/100\n",
      "21/21 [==============================] - 0s 9ms/step - loss: 6.7002e-05 - mae: 0.0060\n",
      "Epoch 80/100\n",
      "21/21 [==============================] - 0s 9ms/step - loss: 8.4603e-05 - mae: 0.0070\n",
      "Epoch 81/100\n",
      "21/21 [==============================] - 0s 10ms/step - loss: 8.1020e-05 - mae: 0.0069\n",
      "Epoch 82/100\n",
      "21/21 [==============================] - 0s 9ms/step - loss: 6.0842e-05 - mae: 0.0056\n",
      "Epoch 83/100\n"
     ]
    },
    {
     "name": "stdout",
     "output_type": "stream",
     "text": [
      "21/21 [==============================] - 0s 10ms/step - loss: 5.8054e-05 - mae: 0.0055\n",
      "Epoch 84/100\n",
      "21/21 [==============================] - 0s 9ms/step - loss: 5.4096e-05 - mae: 0.0052\n",
      "Epoch 85/100\n",
      "21/21 [==============================] - 0s 9ms/step - loss: 5.5224e-05 - mae: 0.0053\n",
      "Epoch 86/100\n",
      "21/21 [==============================] - 0s 9ms/step - loss: 5.3656e-05 - mae: 0.0052\n",
      "Epoch 87/100\n",
      "21/21 [==============================] - 0s 9ms/step - loss: 5.6540e-05 - mae: 0.0054\n",
      "Epoch 88/100\n",
      "21/21 [==============================] - 0s 9ms/step - loss: 5.4231e-05 - mae: 0.0052\n",
      "Epoch 89/100\n",
      "21/21 [==============================] - 0s 14ms/step - loss: 5.5760e-05 - mae: 0.0054\n",
      "Epoch 90/100\n",
      "21/21 [==============================] - 0s 17ms/step - loss: 5.9204e-05 - mae: 0.0055\n",
      "Epoch 91/100\n",
      "21/21 [==============================] - 0s 17ms/step - loss: 6.5108e-05 - mae: 0.0059\n",
      "Epoch 92/100\n",
      "21/21 [==============================] - 0s 17ms/step - loss: 6.4131e-05 - mae: 0.0059\n",
      "Epoch 93/100\n",
      "21/21 [==============================] - 0s 17ms/step - loss: 6.6542e-05 - mae: 0.0060\n",
      "Epoch 94/100\n",
      "21/21 [==============================] - 0s 18ms/step - loss: 5.8674e-05 - mae: 0.0055\n",
      "Epoch 95/100\n",
      "21/21 [==============================] - 0s 17ms/step - loss: 6.9296e-05 - mae: 0.0062\n",
      "Epoch 96/100\n",
      "21/21 [==============================] - 0s 18ms/step - loss: 7.7569e-05 - mae: 0.0066\n",
      "Epoch 97/100\n",
      "21/21 [==============================] - 0s 20ms/step - loss: 7.0016e-05 - mae: 0.0062\n",
      "Epoch 98/100\n",
      "21/21 [==============================] - 0s 13ms/step - loss: 8.0078e-05 - mae: 0.0069\n",
      "Epoch 99/100\n",
      "21/21 [==============================] - 0s 9ms/step - loss: 5.9487e-05 - mae: 0.0056\n",
      "Epoch 100/100\n",
      "21/21 [==============================] - 0s 9ms/step - loss: 5.6476e-05 - mae: 0.0054\n",
      "141/141 [==============================] - 0s 2ms/step\n"
     ]
    }
   ],
   "source": [
    "from sklearn.metrics import mean_squared_error, accuracy_score,r2_score\n",
    "\n",
    "# Defining the model\n",
    "model = Sequential()\n",
    "model.add(Dense(512,input_dim = 10,kernel_initializer = \"normal\",activation = \"relu\"))\n",
    "model.add(Dense(512,kernel_initializer = \"normal\",activation = \"relu\"))\n",
    "model.add(Dense(1))\n",
    "#sgd = SGD(lr=learning_rate, momentum=momentum, decay=decay_rate, nesterov=False)\n",
    "model.compile(loss = 'mse',optimizer = \"Adam\",metrics = ['mae'])\n",
    "\n",
    "# Fitting the model\n",
    "\n",
    "model.fit(x_train,y_train,batch_size=batch_size,epochs=epochs)\n"
   ]
  },
  {
   "cell_type": "code",
   "execution_count": 48,
   "id": "343b82b3",
   "metadata": {},
   "outputs": [
    {
     "name": "stdout",
     "output_type": "stream",
     "text": [
      "141/141 [==============================] - 0s 2ms/step\n"
     ]
    }
   ],
   "source": [
    "y_predict = model.predict(x_test)"
   ]
  },
  {
   "cell_type": "code",
   "execution_count": 49,
   "id": "07689c22",
   "metadata": {},
   "outputs": [],
   "source": [
    "from sklearn.metrics import mean_squared_error"
   ]
  },
  {
   "cell_type": "code",
   "execution_count": 52,
   "id": "a63b1835",
   "metadata": {},
   "outputs": [
    {
     "data": {
      "text/plain": [
       "6.871827954994424e-05"
      ]
     },
     "execution_count": 52,
     "metadata": {},
     "output_type": "execute_result"
    }
   ],
   "source": [
    "mean_squared_error(y_test,y_predict)"
   ]
  },
  {
   "cell_type": "code",
   "execution_count": 53,
   "id": "f2d11958",
   "metadata": {},
   "outputs": [],
   "source": [
    "from sklearn.metrics import r2_score"
   ]
  },
  {
   "cell_type": "code",
   "execution_count": 55,
   "id": "7e9ca22a",
   "metadata": {},
   "outputs": [
    {
     "name": "stdout",
     "output_type": "stream",
     "text": [
      "R_squared 99.85 %\n"
     ]
    }
   ],
   "source": [
    "import numpy as np\n",
    "print ( \"R_squared\",np.round(r2_score(y_test,y_predict)*100,2),'%')"
   ]
  },
  {
   "cell_type": "code",
   "execution_count": null,
   "id": "1e9a739e",
   "metadata": {},
   "outputs": [],
   "source": []
  },
  {
   "cell_type": "markdown",
   "id": "d971d54f",
   "metadata": {},
   "source": [
    "### conclusion\n",
    "###### high value of R2_square and Low value \"MSE \" indicates we can reliable on this model predictions on TEY"
   ]
  }
 ],
 "metadata": {
  "kernelspec": {
   "display_name": "Python 3 (ipykernel)",
   "language": "python",
   "name": "python3"
  },
  "language_info": {
   "codemirror_mode": {
    "name": "ipython",
    "version": 3
   },
   "file_extension": ".py",
   "mimetype": "text/x-python",
   "name": "python",
   "nbconvert_exporter": "python",
   "pygments_lexer": "ipython3",
   "version": "3.9.7"
  }
 },
 "nbformat": 4,
 "nbformat_minor": 5
}
