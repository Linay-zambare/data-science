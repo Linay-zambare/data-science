{
 "cells": [
  {
   "cell_type": "markdown",
   "id": "f6595b4e",
   "metadata": {},
   "source": [
    "1.\tThe time required for servicing transmissions is normally distributed with mu = 45 minutes and std= 8 minutes. The service manager plans to have work begin on the transmission of a customer’s car 10 minutes after the car is dropped off and the customer is told that the car will be ready within 1 hour from drop-off. What is the probability that the service manager cannot meet his commitment? "
   ]
  },
  {
   "cell_type": "markdown",
   "id": "074cec58",
   "metadata": {},
   "source": [
    "the total time requires fro servicing is 1 hour,\n",
    "the service manager takes a car for work 10 minutes after \n",
    "time left to work is (60-10)= 50 minutes"
   ]
  },
  {
   "cell_type": "markdown",
   "id": "5e8284f3",
   "metadata": {},
   "source": [
    "P(X>50)=1-P(x<=50)"
   ]
  },
  {
   "cell_type": "code",
   "execution_count": 1,
   "id": "32971cd0",
   "metadata": {},
   "outputs": [],
   "source": [
    "from scipy import stats"
   ]
  },
  {
   "cell_type": "code",
   "execution_count": 2,
   "id": "6857406f",
   "metadata": {},
   "outputs": [
    {
     "name": "stdout",
     "output_type": "stream",
     "text": [
      "0.26598552904870054\n"
     ]
    }
   ],
   "source": [
    "#Probability of a service manager cannot meet his commitment\n",
    "a=1-stats.norm.cdf(50,45,8) \n",
    "print (a)"
   ]
  },
  {
   "cell_type": "raw",
   "id": "cd2b4904",
   "metadata": {},
   "source": [
    "2.\tThe current age (in years) of 400 clerical employees at an insurance claims processing center is normally distributed with mean mu = 38 and Standard deviation sigma =6. For each statement below, please specify True/False. If false, briefly explain why.\n",
    "A.\tMore employees at the processing center are older than 44 than between 38 and 44.\n",
    "\n",
    "B.\tA training program for employees under the age of 30 at the center would be expected to attract about 36 employees.\n"
   ]
  },
  {
   "cell_type": "markdown",
   "id": "6fb60dc8",
   "metadata": {},
   "source": [
    " ### A.\tMore employees at the processing center are older than 44 than between 38 and 44.\n"
   ]
  },
  {
   "cell_type": "markdown",
   "id": "faa2b40b",
   "metadata": {},
   "source": [
    "older than 44 = P(X>44)\n",
    "between 38 and 44 = P(38=<x<=44)= P(x>=38)-P(x<=44)"
   ]
  },
  {
   "cell_type": "code",
   "execution_count": 3,
   "id": "1cdb5653",
   "metadata": {},
   "outputs": [
    {
     "name": "stdout",
     "output_type": "stream",
     "text": [
      "0.8413447460685429\n",
      "0.15865525393145707\n",
      "0.3413447460685429\n"
     ]
    }
   ],
   "source": [
    "a = stats.norm.cdf(44,38,6)\n",
    "print (a)\n",
    "b= 1-a \n",
    "## peoples are older than 44\n",
    "print(b)\n",
    "## peoples are between 38 and 44 \n",
    "## 38 is the mean of distribution its half of the distribution so , it takes 0.5\n",
    "middle = a-0.5  \n",
    "print(middle)"
   ]
  },
  {
   "cell_type": "markdown",
   "id": "bb90aadc",
   "metadata": {},
   "source": [
    "##### the statement  A is false because of more people in between 38 ad 44(34.13%) and less people are older than 44 (15.86%)"
   ]
  },
  {
   "cell_type": "markdown",
   "id": "9c2d1fab",
   "metadata": {},
   "source": [
    "### B.\tA training program for employees under the age of 30 at the center would be expected to attract about 36 employees."
   ]
  },
  {
   "cell_type": "code",
   "execution_count": 4,
   "id": "4456ce1a",
   "metadata": {},
   "outputs": [
    {
     "data": {
      "text/plain": [
       "0.09121121972586788"
      ]
     },
     "execution_count": 4,
     "metadata": {},
     "output_type": "execute_result"
    }
   ],
   "source": [
    "## zscore for 30\n",
    "stats.norm.cdf(30,38,6)\n"
   ]
  },
  {
   "cell_type": "code",
   "execution_count": 5,
   "id": "31dee192",
   "metadata": {},
   "outputs": [
    {
     "data": {
      "text/plain": [
       "36.484487890347154"
      ]
     },
     "execution_count": 5,
     "metadata": {},
     "output_type": "execute_result"
    }
   ],
   "source": [
    "## zscore * population = number of employees \n",
    "stats.norm.cdf(30,38,6)*400\n"
   ]
  },
  {
   "cell_type": "markdown",
   "id": "1495e64d",
   "metadata": {},
   "source": [
    "##### statement B is true  under the age of 30 employees are attract to the training centre"
   ]
  },
  {
   "cell_type": "markdown",
   "id": "6a918850",
   "metadata": {},
   "source": [
    "#### 4.\tLet X ~ N(100, 20^2). Find two values, a and b, symmetric about the mean, such that the probability of the random variable taking a value between them is 0.99. \n",
    "\n"
   ]
  },
  {
   "cell_type": "code",
   "execution_count": 6,
   "id": "32dd1d62",
   "metadata": {},
   "outputs": [
    {
     "data": {
      "text/plain": [
       "-2.575829303548901"
      ]
     },
     "execution_count": 6,
     "metadata": {},
     "output_type": "execute_result"
    }
   ],
   "source": [
    "stats.norm.ppf(0.005)"
   ]
  },
  {
   "cell_type": "code",
   "execution_count": 7,
   "id": "2ce7e218",
   "metadata": {},
   "outputs": [
    {
     "data": {
      "text/plain": [
       "2.5758293035489004"
      ]
     },
     "execution_count": 7,
     "metadata": {},
     "output_type": "execute_result"
    }
   ],
   "source": [
    "stats.norm.ppf(.995)"
   ]
  },
  {
   "cell_type": "code",
   "execution_count": 8,
   "id": "7aa67c26",
   "metadata": {},
   "outputs": [
    {
     "data": {
      "text/plain": [
       "48.6"
      ]
     },
     "execution_count": 8,
     "metadata": {},
     "output_type": "execute_result"
    }
   ],
   "source": [
    "## (mu - zscore* std deviation ) = value of x ,lower limit\n",
    "100+(-2.57*20)"
   ]
  },
  {
   "cell_type": "code",
   "execution_count": 9,
   "id": "d5ceba37",
   "metadata": {},
   "outputs": [
    {
     "data": {
      "text/plain": [
       "151.4"
      ]
     },
     "execution_count": 9,
     "metadata": {},
     "output_type": "execute_result"
    }
   ],
   "source": [
    "## (mu + Z score* std deviation) = value of x, upper limit\n",
    "100+(2.57*20)"
   ]
  },
  {
   "cell_type": "raw",
   "id": "331c4423",
   "metadata": {},
   "source": [
    "5.\tConsider a company that has two different divisions. The annual profits from the two divisions are independent and have distributions Profit1 ~ N(5, 3^2) and Profit2 ~ N(7, 4^2) respectively. Both the profits are in $ Million. Answer the following questions about the total profit of the company in Rupees. Assume that $1 = Rs. 45\n",
    "A.\tSpecify a Rupee range (centered on the mean) such that it contains 95% probability for the annual profit of the company.\n",
    "B.\tSpecify the 5th percentile of profit (in Rupees) for the company\n",
    "C.\tWhich of the two divisions has a larger probability of making a loss in a given year?\n"
   ]
  },
  {
   "cell_type": "markdown",
   "id": "7bb31bab",
   "metadata": {},
   "source": [
    "#### A.\tSpecify a Rupee range (centered on the mean) such that it contains 95% probability for the annual profit of the company\n",
    "#### total profit of company = (5, 3^2) +(7, 4^2) = (12, 5^2)"
   ]
  },
  {
   "cell_type": "code",
   "execution_count": 10,
   "id": "1f89a2e1",
   "metadata": {},
   "outputs": [
    {
     "data": {
      "text/plain": [
       "-1.9599639845400545"
      ]
     },
     "execution_count": 10,
     "metadata": {},
     "output_type": "execute_result"
    }
   ],
   "source": [
    "## finding the lower limit zscore\n",
    "stats.norm.ppf(0.025)"
   ]
  },
  {
   "cell_type": "code",
   "execution_count": 11,
   "id": "16157aed",
   "metadata": {},
   "outputs": [
    {
     "data": {
      "text/plain": [
       "1.959963984540054"
      ]
     },
     "execution_count": 11,
     "metadata": {},
     "output_type": "execute_result"
    }
   ],
   "source": [
    "## finding the upper limit of zscore\n",
    "stats.norm.ppf(0.975)"
   ]
  },
  {
   "cell_type": "code",
   "execution_count": 12,
   "id": "fbbc5f0f",
   "metadata": {},
   "outputs": [
    {
     "data": {
      "text/plain": [
       "(21.8, 2.1999999999999993)"
      ]
     },
     "execution_count": 12,
     "metadata": {},
     "output_type": "execute_result"
    }
   ],
   "source": [
    "## upper and lower limit value of 95% range in $ million\n",
    "(12+(1.96*5) , 12+(-1.96*5)) "
   ]
  },
  {
   "cell_type": "code",
   "execution_count": 13,
   "id": "8cd918ea",
   "metadata": {},
   "outputs": [
    {
     "name": "stdout",
     "output_type": "stream",
     "text": [
      "('Rs.', 99.00000000000001, 'M', 'Rs.', 981.0, 'M')\n"
     ]
    }
   ],
   "source": [
    "## upper and lower limit value of 95% range in Million of Rs.\n",
    "Rs=(\"Rs.\",2.2*45,\"M\",\"Rs.\",21.8*45,\"M\")\n",
    "print(Rs)"
   ]
  },
  {
   "cell_type": "markdown",
   "id": "99af792b",
   "metadata": {},
   "source": [
    "#### B.\tSpecify the 5th percentile of profit (in Rupees) for the company\n",
    " "
   ]
  },
  {
   "cell_type": "code",
   "execution_count": 14,
   "id": "fc81bc63",
   "metadata": {},
   "outputs": [
    {
     "data": {
      "text/plain": [
       "-1.6448536269514729"
      ]
     },
     "execution_count": 14,
     "metadata": {},
     "output_type": "execute_result"
    }
   ],
   "source": [
    "## zscore value of the 5th percentile\n",
    "stats.norm.ppf(0.05)"
   ]
  },
  {
   "cell_type": "code",
   "execution_count": 15,
   "id": "d76925d8",
   "metadata": {},
   "outputs": [
    {
     "name": "stdout",
     "output_type": "stream",
     "text": [
      "Rs 170.10000000000005 M\n"
     ]
    }
   ],
   "source": [
    "  ## to find the profit of 5th percentile we use the zscore formula\n",
    " ## (p-12)/5 = -1.644\n",
    "p =(12-(5*1.644))\n",
    "print (\"Rs\",p*45,\"M\")\n",
    "## 5th percentile profit = Rs 170 M"
   ]
  },
  {
   "cell_type": "markdown",
   "id": "a622c523",
   "metadata": {},
   "source": [
    "#### c.\tWhich of the two divisions has a larger probability of making a loss in a given year?\n"
   ]
  },
  {
   "cell_type": "code",
   "execution_count": 16,
   "id": "d4cbdec1",
   "metadata": {},
   "outputs": [],
   "source": [
    "## p<0"
   ]
  },
  {
   "cell_type": "code",
   "execution_count": 17,
   "id": "a37bcc62",
   "metadata": {},
   "outputs": [
    {
     "data": {
      "text/plain": [
       "-1.9599639845400545"
      ]
     },
     "execution_count": 17,
     "metadata": {},
     "output_type": "execute_result"
    }
   ],
   "source": [
    "\n",
    "stats.norm.ppf(0.025)"
   ]
  },
  {
   "cell_type": "code",
   "execution_count": 18,
   "id": "61f081f4",
   "metadata": {},
   "outputs": [
    {
     "data": {
      "text/plain": [
       "1.959963984540054"
      ]
     },
     "execution_count": 18,
     "metadata": {},
     "output_type": "execute_result"
    }
   ],
   "source": [
    "stats.norm.ppf(0.975)"
   ]
  },
  {
   "cell_type": "code",
   "execution_count": 19,
   "id": "8b6dac68",
   "metadata": {},
   "outputs": [
    {
     "data": {
      "text/plain": [
       "1.0170438668719681"
      ]
     },
     "execution_count": 19,
     "metadata": {},
     "output_type": "execute_result"
    }
   ],
   "source": [
    "## the first division tested on left area 0.025\n",
    "stats.norm.cdf(-1.96,5,3)*100 "
   ]
  },
  {
   "cell_type": "code",
   "execution_count": 20,
   "id": "c4014d50",
   "metadata": {},
   "outputs": [
    {
     "data": {
      "text/plain": [
       "1.2545461435946563"
      ]
     },
     "execution_count": 20,
     "metadata": {},
     "output_type": "execute_result"
    }
   ],
   "source": [
    "## the second division tested  on left area 0.025\n",
    "stats.norm.cdf(-1.96,7,4)*100"
   ]
  },
  {
   "cell_type": "markdown",
   "id": "9a037393",
   "metadata": {},
   "source": [
    "from the above conclusion of first and second division left area we state that,\n",
    "\n",
    "The first division of company, thus have larger probability of making a loss in a given year.\n",
    "\n"
   ]
  }
 ],
 "metadata": {
  "kernelspec": {
   "display_name": "Python 3 (ipykernel)",
   "language": "python",
   "name": "python3"
  },
  "language_info": {
   "codemirror_mode": {
    "name": "ipython",
    "version": 3
   },
   "file_extension": ".py",
   "mimetype": "text/x-python",
   "name": "python",
   "nbconvert_exporter": "python",
   "pygments_lexer": "ipython3",
   "version": "3.9.7"
  }
 },
 "nbformat": 4,
 "nbformat_minor": 5
}
